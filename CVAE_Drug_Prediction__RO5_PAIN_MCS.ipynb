{
  "cells": [
    {
      "cell_type": "markdown",
      "metadata": {
        "id": "view-in-github",
        "colab_type": "text"
      },
      "source": [
        "<a href=\"https://colab.research.google.com/github/Swayamprakashpatel/COVID19_Clinical-Trial-Text-Mining/blob/master/CVAE_Drug_Prediction__RO5_PAIN_MCS.ipynb\" target=\"_parent\"><img src=\"https://colab.research.google.com/assets/colab-badge.svg\" alt=\"Open In Colab\"/></a>"
      ]
    },
    {
      "cell_type": "code",
      "source": [
        "from google.colab import drive\n",
        "drive.mount('/content/drive')"
      ],
      "metadata": {
        "id": "FKK053dTqRj8",
        "colab": {
          "base_uri": "https://localhost:8080/"
        },
        "outputId": "3948e18f-2fe6-4d7b-edc0-06f3cefa5f37"
      },
      "id": "FKK053dTqRj8",
      "execution_count": 1,
      "outputs": [
        {
          "output_type": "stream",
          "name": "stdout",
          "text": [
            "Mounted at /content/drive\n"
          ]
        }
      ]
    },
    {
      "cell_type": "code",
      "source": [
        "# @title CVAE_Drug_Generator\n",
        "from google.colab import drive\n",
        "drive.mount('/content/drive')\n",
        "\n",
        "#-------------------------------------------#\n",
        "#...........INSTALL LIBRARIESS..............#\n",
        "!pip install torch\n",
        "!pip install transformers\n",
        "!pip install numpy\n",
        "!pip install rdkit\n",
        "!pip innstall Pillow\n",
        "!pip install transformers pillow\n",
        "\n",
        "import os\n",
        "import json\n",
        "import warnings\n",
        "import numpy as np\n",
        "import torch\n",
        "import torch.nn as nn\n",
        "from transformers import AutoTokenizer, EsmModel, AutoModel\n",
        "from rdkit import Chem\n",
        "from rdkit.Chem import Draw\n",
        "from PIL import Image\n",
        "from IPython.display import display # <-- CRITICAL FOR COLAB DISPLAY\n",
        "\n",
        "# Suppress warnings and parallel tokenizers for cleaner output\n",
        "warnings.filterwarnings(\"ignore\")\n",
        "os.environ[\"TOKENIZERS_PARALLELISM\"] = \"false\"\n",
        "\n",
        "# ==============================================================================\n",
        "# 1. CONFIGURATION AND INITIALIZATION\n",
        "# ==============================================================================\n",
        "\n",
        "# --- File Paths and Device ---\n",
        "# !!! IMPORTANT: UPDATE THIS PATH TO YOUR ACTUAL BEST MODEL FILE !!!\n",
        "#BEST_MODEL_PATH = '/content/drive/MyDrive/ML_Models/Drug Discovery/BindingDB/BindingDB_CVAE_best_model_esm.pt' # From Google Drive\n",
        "BEST_MODEL_PATH = '/content/BindingDB_CVAE_best_model_esm (2).pt' # from Direct Content\n",
        "# ******************************************************************************\n",
        "EMBEDDING_SAVE_PATH = 'protein_embeddings.npy'\n",
        "SEQ_INDEX_PATH = 'protein_seq_index.json'\n",
        "OUTPUT_DIR = 'generated_structures'\n",
        "\n",
        "device = torch.device(\"cuda\" if torch.cuda.is_available() else \"cpu\")\n",
        "print(f\"Using device: {device}\")\n",
        "\n",
        "# --- Model Dims (MUST match your training setup) ---\n",
        "HIDDEN_DIM = 256\n",
        "LATENT_DIM = 1024\n",
        "NUM_LAYERS = 3\n",
        "\n",
        "# --- ESM-2 Configuration ---\n",
        "ESM_MODEL_NAME = 'esm2_t12_35M_UR50D'\n",
        "MAX_PROTEIN_SEQUENCE_LEN = 1000\n",
        "\n",
        "# --- ChemBERTa Configuration ---\n",
        "CHEMBERTA_MODEL_NAME = 'DeepChem/ChemBERTa-77M-MTR'\n",
        "\n",
        "# ----------------------\n",
        "# Load Tokenizers and Base Models\n",
        "# ----------------------\n",
        "try:\n",
        "    print(f\"Loading ESM-2 model: {ESM_MODEL_NAME}...\")\n",
        "    esm_tokenizer = AutoTokenizer.from_pretrained(f\"facebook/{ESM_MODEL_NAME}\")\n",
        "    esm_model = EsmModel.from_pretrained(f\"facebook/{ESM_MODEL_NAME}\").to(device).eval()\n",
        "    ESM_EMBEDDING_DIM = esm_model.config.hidden_size\n",
        "    ESM_AVAILABLE = True\n",
        "except Exception as e:\n",
        "    ESM_AVAILABLE = False\n",
        "    ESM_EMBEDDING_DIM = None\n",
        "    print(f\"WARNING: ESM-2 not available ({e}). New sequences cannot be processed.\")\n",
        "\n",
        "print(f\"Loading ChemBERTa tokenizer and model: {CHEMBERTA_MODEL_NAME}...\")\n",
        "smiles_tokenizer = AutoTokenizer.from_pretrained(CHEMBERTA_MODEL_NAME)\n",
        "smiles_model = AutoModel.from_pretrained(CHEMBERTA_MODEL_NAME)\n",
        "SMILES_EMBEDDING_DIM = smiles_model.config.hidden_size\n",
        "SMILES_VOCAB_SIZE = smiles_tokenizer.vocab_size\n",
        "\n",
        "PAD_ID = smiles_tokenizer.pad_token_id\n",
        "BOS_ID = smiles_tokenizer.bos_token_id or smiles_tokenizer.cls_token_id\n",
        "EOS_ID = smiles_tokenizer.eos_token_id or smiles_tokenizer.sep_token_id\n",
        "\n",
        "# Infer the protein embedding dimension\n",
        "if ESM_EMBEDDING_DIM is None:\n",
        "    try:\n",
        "        all_protein_embeddings = np.load(EMBEDDING_SAVE_PATH, allow_pickle=True)\n",
        "        protein_emb_dim = int(np.array(all_protein_embeddings[0]).shape[-1])\n",
        "        print(f\"Inferred protein embedding dim from .npy: {protein_emb_dim}\")\n",
        "    except Exception:\n",
        "        raise RuntimeError(\"Could not load ESM or infer protein dimension from .npy.\")\n",
        "else:\n",
        "    protein_emb_dim = ESM_EMBEDDING_DIM\n",
        "\n",
        "\n",
        "# ==============================================================================\n",
        "# 2. UTILITY AND MODEL CLASSES\n",
        "# ==============================================================================\n",
        "\n",
        "# --- Utility Functions ---\n",
        "def safe_to_numpy(x):\n",
        "    if isinstance(x, np.ndarray): return x\n",
        "    return np.array(x)\n",
        "\n",
        "def load_seq_index():\n",
        "    if not os.path.exists(SEQ_INDEX_PATH):\n",
        "        return {}\n",
        "    with open(SEQ_INDEX_PATH, 'r', encoding='utf-8') as f:\n",
        "        return json.load(f)\n",
        "\n",
        "@torch.no_grad()\n",
        "def get_esm_embedding_pooled(seq: str) -> np.ndarray:\n",
        "    \"\"\"Computes pooled ESM embedding for a new sequence (Novel Sequence Fallback).\"\"\"\n",
        "    if not ESM_AVAILABLE:\n",
        "        raise RuntimeError(\"ESM not available to compute embeddings.\")\n",
        "    seq_spaced = \" \".join(seq)\n",
        "    encoded = esm_tokenizer(seq_spaced, return_tensors='pt',\n",
        "                            max_length=MAX_PROTEIN_SEQUENCE_LEN,\n",
        "                            padding=True, truncation=True)\n",
        "    encoded = {k: v.to(device) for k, v in encoded.items()}\n",
        "    out = esm_model(**encoded)\n",
        "    emb = out.last_hidden_state.mean(dim=1).squeeze().detach().cpu().numpy()\n",
        "    return emb\n",
        "\n",
        "def get_protein_embedding_for_seq(seq, seq_to_idx, all_protein_embeddings):\n",
        "    \"\"\"Retrieves embedding (DB Look-up for training data or ESM Fallback for novel sequences).\"\"\"\n",
        "    if seq in seq_to_idx:\n",
        "        print(\"Status: Sequence found in training index. Using precomputed embedding.\")\n",
        "        emb = safe_to_numpy(all_protein_embeddings[seq_to_idx[seq]])\n",
        "        return torch.tensor(emb, dtype=torch.float32, device=device).unsqueeze(0)\n",
        "\n",
        "    if ESM_AVAILABLE:\n",
        "        print(\"Status: Sequence is new. Computing ESM-2 embedding on-the-fly...\")\n",
        "        emb = get_esm_embedding_pooled(seq)\n",
        "        return torch.tensor(emb, dtype=torch.float32, device=device).unsqueeze(0)\n",
        "\n",
        "    raise RuntimeError(\n",
        "        \"Cannot embed unseen protein sequence: No precomputed embedding and ESM-2 is unavailable. \"\n",
        "    )\n",
        "\n",
        "def draw_smiles_to_file(smi_list, output_dir=OUTPUT_DIR):\n",
        "    \"\"\"Draws molecular structures for a list of valid SMILES, saves them, and displays them (using IPython display).\"\"\"\n",
        "    if not smi_list:\n",
        "        return\n",
        "\n",
        "    os.makedirs(output_dir, exist_ok=True)\n",
        "\n",
        "    mols = [Chem.MolFromSmiles(smi) for smi in smi_list]\n",
        "    mols = [mol for mol in mols if mol is not None]\n",
        "\n",
        "    if not mols:\n",
        "        print(\"Could not convert any valid SMILES to RDKit molecules for drawing.\")\n",
        "        return\n",
        "\n",
        "    print(f\"\\nDrawing, saving, and displaying {len(mols)} valid molecular structures...\")\n",
        "\n",
        "    # Draw and save/show each structure individually with an index\n",
        "    for i, mol in enumerate(mols):\n",
        "        try:\n",
        "            img = Draw.MolToImage(mol, size=(300, 300))\n",
        "\n",
        "            filename = os.path.join(output_dir, f'molecule_{i + 1}.png')\n",
        "            img.save(filename) # Saves the file\n",
        "\n",
        "            # --- COLAB/NOTEBOOK DISPLAY: Use IPython.display ---\n",
        "            print(f\"Displaying structure {i+1}...\")\n",
        "            display(img)\n",
        "            # ----------------------------------------------------\n",
        "\n",
        "        except Exception as e:\n",
        "            print(f\"Error processing molecule {i+1}: {e}\")\n",
        "            print(\"Note: Image display failed. Check environment configuration.\")\n",
        "\n",
        "# --- Model Architecture ---\n",
        "class FiLM(nn.Module):\n",
        "    def __init__(self, cond_dim, hidden_dim):\n",
        "        super().__init__()\n",
        "        self.gamma = nn.Linear(cond_dim, hidden_dim)\n",
        "        self.beta  = nn.Linear(cond_dim, hidden_dim)\n",
        "    def forward(self, x, cond):\n",
        "        g = self.gamma(cond).unsqueeze(1)\n",
        "        b = self.beta(cond).unsqueeze(1)\n",
        "        return x * (1 + g) + b\n",
        "\n",
        "class ConditionalVAE(nn.Module):\n",
        "    def __init__(self, smiles_embedding_layer, vocab_size, smiles_embedding_dim,\n",
        "                 protein_embedding_dim, hidden_dim, latent_dim, num_layers):\n",
        "        super().__init__()\n",
        "        self.latent_dim = latent_dim\n",
        "        self.num_layers = num_layers\n",
        "\n",
        "        # Architecture setup (matching your training code)\n",
        "        self.smiles_embedding_layer = smiles_embedding_layer\n",
        "        self.encoder_rnn = nn.GRU(smiles_embedding_dim, hidden_dim, num_layers=num_layers, batch_first=True)\n",
        "        self.encoder_protein_mlp = nn.Sequential(nn.Linear(protein_embedding_dim, hidden_dim), nn.ReLU(), nn.Linear(hidden_dim, hidden_dim))\n",
        "        self.fc_mu = nn.Linear(hidden_dim, latent_dim)\n",
        "        self.fc_logvar = nn.Linear(hidden_dim, latent_dim)\n",
        "        self.decoder_init = nn.Sequential(nn.Linear(latent_dim + protein_embedding_dim, hidden_dim), nn.ReLU())\n",
        "        self.decoder_rnn = nn.GRU(smiles_embedding_dim, hidden_dim, num_layers=num_layers, batch_first=True)\n",
        "        self.film = FiLM(protein_embedding_dim, hidden_dim)\n",
        "        self.out_proj = nn.Linear(hidden_dim, smiles_embedding_dim, bias=False)\n",
        "        self.fc_out = nn.Linear(smiles_embedding_dim, vocab_size, bias=False)\n",
        "        self.fc_out.weight = self.smiles_embedding_layer.weight\n",
        "\n",
        "    @torch.no_grad()\n",
        "    def generate(self, protein_embedding, max_len, top_k, top_p, temperature):\n",
        "        B = protein_embedding.size(0)\n",
        "        z = torch.randn(B, self.latent_dim, device=protein_embedding.device)\n",
        "        zc = torch.cat([z, protein_embedding], dim=1)\n",
        "        h = self.decoder_init(zc).unsqueeze(0).repeat(self.decoder_rnn.num_layers, 1, 1)\n",
        "\n",
        "        cur = torch.full((B, 1), BOS_ID, dtype=torch.long, device=protein_embedding.device)\n",
        "        seq = [cur]\n",
        "\n",
        "        for _ in range(max_len):\n",
        "            emb = self.smiles_embedding_layer(cur[:, -1:])\n",
        "            out, h = self.decoder_rnn(emb, h)\n",
        "            out = self.film(out, protein_embedding)\n",
        "            out = self.out_proj(out)\n",
        "            logits = self.fc_out(out[:, -1, :]) / max(1e-8, temperature)\n",
        "\n",
        "            probs = torch.softmax(logits, dim=-1)\n",
        "            next_tok = self._sample_top_k_top_p(probs, top_k, top_p).unsqueeze(1)\n",
        "            seq.append(next_tok)\n",
        "            cur = torch.cat([cur, next_tok], dim=1)\n",
        "            if torch.all(next_tok.squeeze(1) == EOS_ID):\n",
        "                break\n",
        "        return torch.cat(seq, dim=1)\n",
        "\n",
        "    def _sample_top_k_top_p(self, probs, top_k, top_p):\n",
        "        B, V = probs.size()\n",
        "        if top_k is not None and top_k > 0:\n",
        "            topk_vals, topk_idx = torch.topk(probs, k=min(top_k, V), dim=-1)\n",
        "            mask = torch.zeros_like(probs).scatter_(1, topk_idx, 1.0)\n",
        "            probs = probs * mask\n",
        "        if top_p is not None and 0.0 < top_p < 1.0:\n",
        "            sorted_probs, sorted_idx = torch.sort(probs, descending=True, dim=-1)\n",
        "            cum = torch.cumsum(sorted_probs, dim=-1)\n",
        "            cutoff = cum > top_p\n",
        "            cutoff[..., 0] = False\n",
        "            sorted_probs[cutoff] = 0.0\n",
        "            probs = torch.zeros_like(probs).scatter(1, sorted_idx, sorted_probs)\n",
        "\n",
        "        probs = probs / probs.sum(dim=-1, keepdim=True).clamp_min(1e-8)\n",
        "        return torch.multinomial(probs, num_samples=1).squeeze(1)\n",
        "\n",
        "\n",
        "# ==============================================================================\n",
        "# 3. MAIN PREDICTION FUNCTION\n",
        "# ==============================================================================\n",
        "\n",
        "@torch.no_grad()\n",
        "def generate_smiles_for_sequence(raw_sequence: str, num_samples: int, max_len: int, temperature: float, top_k: int = 50, top_p: float = 0.99) -> list[str]:\n",
        "    \"\"\"\n",
        "    Generates and validates SMILES molecules for a given protein sequence.\n",
        "    Returns a list of valid SMILES strings.\n",
        "    \"\"\"\n",
        "    if not os.path.exists(BEST_MODEL_PATH):\n",
        "        raise FileNotFoundError(f\"Best model not found at {BEST_MODEL_PATH}. Train first!\")\n",
        "\n",
        "    # 1. Load data artifacts\n",
        "    seq_to_idx = load_seq_index()\n",
        "    try:\n",
        "        all_protein_embeddings = np.load(EMBEDDING_SAVE_PATH, allow_pickle=True)\n",
        "    except FileNotFoundError:\n",
        "        if not ESM_AVAILABLE:\n",
        "             raise FileNotFoundError(f\"Embedding file {EMBEDDING_SAVE_PATH} not found and ESM unavailable.\")\n",
        "        all_protein_embeddings = []\n",
        "\n",
        "    # 2. Rebuild and Load Model\n",
        "    pre_emb = smiles_model.get_input_embeddings().weight.detach().clone()\n",
        "    smiles_embedding_layer = nn.Embedding.from_pretrained(pre_emb, freeze=False)\n",
        "\n",
        "    model = ConditionalVAE(\n",
        "        smiles_embedding_layer=smiles_embedding_layer,\n",
        "        vocab_size=SMILES_VOCAB_SIZE,\n",
        "        smiles_embedding_dim=SMILES_EMBEDDING_DIM,\n",
        "        protein_embedding_dim=protein_emb_dim,\n",
        "        hidden_dim=HIDDEN_DIM,\n",
        "        latent_dim=LATENT_DIM,\n",
        "        num_layers=NUM_LAYERS\n",
        "    ).to(device)\n",
        "    model.load_state_dict(torch.load(BEST_MODEL_PATH, map_location=device))\n",
        "    model.eval()\n",
        "\n",
        "    # 3. Get embedding for the input sequence (Handles novel sequences via ESM-2)\n",
        "    try:\n",
        "        pe = get_protein_embedding_for_seq(raw_sequence, seq_to_idx, all_protein_embeddings)\n",
        "    except RuntimeError as e:\n",
        "        print(f\"ERROR: {e}\")\n",
        "        return []\n",
        "\n",
        "    # 4. Generate with controlled parameters\n",
        "    valid_smiles_list = []\n",
        "\n",
        "    print(f\"\\n--- Generation Parameters ---\")\n",
        "    print(f\"Samples: {num_samples} | Max Len: {max_len} tokens | Temp: {temperature} | Top-P: {top_p}\")\n",
        "    print(\"-----------------------------\\n\")\n",
        "\n",
        "    for i in range(num_samples):\n",
        "        ids = model.generate(pe, max_len=max_len, top_k=top_k, top_p=top_p, temperature=temperature)\n",
        "        smi = smiles_tokenizer.decode(ids[0].tolist(), skip_special_tokens=True)\n",
        "\n",
        "        # Validation Check\n",
        "        is_valid = Chem.MolFromSmiles(smi) is not None\n",
        "        validity = \"VALID\" if is_valid else \"INVALID\"\n",
        "\n",
        "        if is_valid:\n",
        "            valid_smiles_list.append(smi)\n",
        "\n",
        "        print(f\"Sample {i+1} of {num_samples}: [{validity}] {smi}\")\n",
        "\n",
        "    return valid_smiles_list\n",
        "\n",
        "# ==============================================================================\n",
        "# 4. MAIN EXECUTION BLOCK (User Interface)\n",
        "# ==============================================================================\n",
        "\n",
        "if __name__ == \"__main__\":\n",
        "\n",
        "    # --- Recommended Default Controls ---\n",
        "    DEFAULT_MAX_LEN = 90\n",
        "    DEFAULT_TEMP = 0.8\n",
        "    DEFAULT_SAMPLES = 10\n",
        "\n",
        "    print(\"\\n--- Conditional VAE Molecule Generation Interface ---\")\n",
        "\n",
        "    # In a Colab notebook, you will need to upload your model files first.\n",
        "    # The input() function works fine in notebooks, prompting a text box.\n",
        "    raw_sequence = input(\"Enter the new protein sequence: \\n> \")\n",
        "\n",
        "    try:\n",
        "        num_samples = int(input(f\"Enter number of SMILES to generate (default: {DEFAULT_SAMPLES}): \") or DEFAULT_SAMPLES)\n",
        "        max_len = int(input(f\"Enter Max SMILES Length in tokens (default: {DEFAULT_MAX_LEN} to favor short/valid): \") or DEFAULT_MAX_LEN)\n",
        "        temperature = float(input(f\"Enter Temperature (e.g., 0.8 for high validity, 1.2 for high diversity, default: {DEFAULT_TEMP}): \") or DEFAULT_TEMP)\n",
        "    except ValueError:\n",
        "        print(\"Invalid number or temperature entered. Using defaults.\")\n",
        "        num_samples = DEFAULT_SAMPLES\n",
        "        max_len = DEFAULT_MAX_LEN\n",
        "        temperature = DEFAULT_TEMP\n",
        "\n",
        "    print(\"\\nStarting generation process...\")\n",
        "\n",
        "    # Run the generation\n",
        "    valid_smiles = generate_smiles_for_sequence(\n",
        "        raw_sequence.strip(),\n",
        "        num_samples,\n",
        "        max_len,\n",
        "        temperature\n",
        "    )\n",
        "\n",
        "    # --- Final Output and Drawing ---\n",
        "    if valid_smiles:\n",
        "        print(f\"\\n==========================================\")\n",
        "        print(f\"--- FINAL RESULTS ---\")\n",
        "        print(f\"Total Valid Samples: {len(valid_smiles)} out of {num_samples} generated.\")\n",
        "        print(f\"Validity Percentage: {len(valid_smiles)/num_samples*100:.2f}%\")\n",
        "        print(\"==========================================\")\n",
        "\n",
        "        # 1) List of Final, Valid SMILES\n",
        "        print(\"\\nFinal List of Valid SMILES:\")\n",
        "        for i, smi in enumerate(valid_smiles):\n",
        "            print(f\"  {i+1}. {smi}\")\n",
        "\n",
        "        # 2) Draw, SAVE, and SHOW Structures\n",
        "        draw_smiles_to_file(valid_smiles)\n",
        "        print(f\"\\n✅ Structures saved to the '{OUTPUT_DIR}' directory and displayed!\")\n",
        "    else:\n",
        "        print(\"\\nGeneration yielded no valid SMILES.\")"
      ],
      "metadata": {
        "colab": {
          "base_uri": "https://localhost:8080/",
          "height": 1000
        },
        "id": "3cWnwsgVH3Yj",
        "outputId": "3a941b22-43c3-40eb-f211-a9d87a029093",
        "cellView": "form"
      },
      "id": "3cWnwsgVH3Yj",
      "execution_count": 5,
      "outputs": [
        {
          "output_type": "stream",
          "name": "stdout",
          "text": [
            "Drive already mounted at /content/drive; to attempt to forcibly remount, call drive.mount(\"/content/drive\", force_remount=True).\n",
            "Requirement already satisfied: torch in /usr/local/lib/python3.12/dist-packages (2.8.0+cu126)\n",
            "Requirement already satisfied: filelock in /usr/local/lib/python3.12/dist-packages (from torch) (3.19.1)\n",
            "Requirement already satisfied: typing-extensions>=4.10.0 in /usr/local/lib/python3.12/dist-packages (from torch) (4.15.0)\n",
            "Requirement already satisfied: setuptools in /usr/local/lib/python3.12/dist-packages (from torch) (75.2.0)\n",
            "Requirement already satisfied: sympy>=1.13.3 in /usr/local/lib/python3.12/dist-packages (from torch) (1.13.3)\n",
            "Requirement already satisfied: networkx in /usr/local/lib/python3.12/dist-packages (from torch) (3.5)\n",
            "Requirement already satisfied: jinja2 in /usr/local/lib/python3.12/dist-packages (from torch) (3.1.6)\n",
            "Requirement already satisfied: fsspec in /usr/local/lib/python3.12/dist-packages (from torch) (2025.3.0)\n",
            "Requirement already satisfied: nvidia-cuda-nvrtc-cu12==12.6.77 in /usr/local/lib/python3.12/dist-packages (from torch) (12.6.77)\n",
            "Requirement already satisfied: nvidia-cuda-runtime-cu12==12.6.77 in /usr/local/lib/python3.12/dist-packages (from torch) (12.6.77)\n",
            "Requirement already satisfied: nvidia-cuda-cupti-cu12==12.6.80 in /usr/local/lib/python3.12/dist-packages (from torch) (12.6.80)\n",
            "Requirement already satisfied: nvidia-cudnn-cu12==9.10.2.21 in /usr/local/lib/python3.12/dist-packages (from torch) (9.10.2.21)\n",
            "Requirement already satisfied: nvidia-cublas-cu12==12.6.4.1 in /usr/local/lib/python3.12/dist-packages (from torch) (12.6.4.1)\n",
            "Requirement already satisfied: nvidia-cufft-cu12==11.3.0.4 in /usr/local/lib/python3.12/dist-packages (from torch) (11.3.0.4)\n",
            "Requirement already satisfied: nvidia-curand-cu12==10.3.7.77 in /usr/local/lib/python3.12/dist-packages (from torch) (10.3.7.77)\n",
            "Requirement already satisfied: nvidia-cusolver-cu12==11.7.1.2 in /usr/local/lib/python3.12/dist-packages (from torch) (11.7.1.2)\n",
            "Requirement already satisfied: nvidia-cusparse-cu12==12.5.4.2 in /usr/local/lib/python3.12/dist-packages (from torch) (12.5.4.2)\n",
            "Requirement already satisfied: nvidia-cusparselt-cu12==0.7.1 in /usr/local/lib/python3.12/dist-packages (from torch) (0.7.1)\n",
            "Requirement already satisfied: nvidia-nccl-cu12==2.27.3 in /usr/local/lib/python3.12/dist-packages (from torch) (2.27.3)\n",
            "Requirement already satisfied: nvidia-nvtx-cu12==12.6.77 in /usr/local/lib/python3.12/dist-packages (from torch) (12.6.77)\n",
            "Requirement already satisfied: nvidia-nvjitlink-cu12==12.6.85 in /usr/local/lib/python3.12/dist-packages (from torch) (12.6.85)\n",
            "Requirement already satisfied: nvidia-cufile-cu12==1.11.1.6 in /usr/local/lib/python3.12/dist-packages (from torch) (1.11.1.6)\n",
            "Requirement already satisfied: triton==3.4.0 in /usr/local/lib/python3.12/dist-packages (from torch) (3.4.0)\n",
            "Requirement already satisfied: mpmath<1.4,>=1.1.0 in /usr/local/lib/python3.12/dist-packages (from sympy>=1.13.3->torch) (1.3.0)\n",
            "Requirement already satisfied: MarkupSafe>=2.0 in /usr/local/lib/python3.12/dist-packages (from jinja2->torch) (3.0.2)\n",
            "Requirement already satisfied: transformers in /usr/local/lib/python3.12/dist-packages (4.56.1)\n",
            "Requirement already satisfied: filelock in /usr/local/lib/python3.12/dist-packages (from transformers) (3.19.1)\n",
            "Requirement already satisfied: huggingface-hub<1.0,>=0.34.0 in /usr/local/lib/python3.12/dist-packages (from transformers) (0.35.0)\n",
            "Requirement already satisfied: numpy>=1.17 in /usr/local/lib/python3.12/dist-packages (from transformers) (2.0.2)\n",
            "Requirement already satisfied: packaging>=20.0 in /usr/local/lib/python3.12/dist-packages (from transformers) (25.0)\n",
            "Requirement already satisfied: pyyaml>=5.1 in /usr/local/lib/python3.12/dist-packages (from transformers) (6.0.2)\n",
            "Requirement already satisfied: regex!=2019.12.17 in /usr/local/lib/python3.12/dist-packages (from transformers) (2024.11.6)\n",
            "Requirement already satisfied: requests in /usr/local/lib/python3.12/dist-packages (from transformers) (2.32.4)\n",
            "Requirement already satisfied: tokenizers<=0.23.0,>=0.22.0 in /usr/local/lib/python3.12/dist-packages (from transformers) (0.22.0)\n",
            "Requirement already satisfied: safetensors>=0.4.3 in /usr/local/lib/python3.12/dist-packages (from transformers) (0.6.2)\n",
            "Requirement already satisfied: tqdm>=4.27 in /usr/local/lib/python3.12/dist-packages (from transformers) (4.67.1)\n",
            "Requirement already satisfied: fsspec>=2023.5.0 in /usr/local/lib/python3.12/dist-packages (from huggingface-hub<1.0,>=0.34.0->transformers) (2025.3.0)\n",
            "Requirement already satisfied: typing-extensions>=3.7.4.3 in /usr/local/lib/python3.12/dist-packages (from huggingface-hub<1.0,>=0.34.0->transformers) (4.15.0)\n",
            "Requirement already satisfied: hf-xet<2.0.0,>=1.1.3 in /usr/local/lib/python3.12/dist-packages (from huggingface-hub<1.0,>=0.34.0->transformers) (1.1.10)\n",
            "Requirement already satisfied: charset_normalizer<4,>=2 in /usr/local/lib/python3.12/dist-packages (from requests->transformers) (3.4.3)\n",
            "Requirement already satisfied: idna<4,>=2.5 in /usr/local/lib/python3.12/dist-packages (from requests->transformers) (3.10)\n",
            "Requirement already satisfied: urllib3<3,>=1.21.1 in /usr/local/lib/python3.12/dist-packages (from requests->transformers) (2.5.0)\n",
            "Requirement already satisfied: certifi>=2017.4.17 in /usr/local/lib/python3.12/dist-packages (from requests->transformers) (2025.8.3)\n",
            "Requirement already satisfied: numpy in /usr/local/lib/python3.12/dist-packages (2.0.2)\n",
            "Requirement already satisfied: rdkit in /usr/local/lib/python3.12/dist-packages (2025.3.6)\n",
            "Requirement already satisfied: numpy in /usr/local/lib/python3.12/dist-packages (from rdkit) (2.0.2)\n",
            "Requirement already satisfied: Pillow in /usr/local/lib/python3.12/dist-packages (from rdkit) (11.3.0)\n",
            "ERROR: unknown command \"innstall\" - maybe you meant \"install\"\n",
            "Requirement already satisfied: transformers in /usr/local/lib/python3.12/dist-packages (4.56.1)\n",
            "Requirement already satisfied: pillow in /usr/local/lib/python3.12/dist-packages (11.3.0)\n",
            "Requirement already satisfied: filelock in /usr/local/lib/python3.12/dist-packages (from transformers) (3.19.1)\n",
            "Requirement already satisfied: huggingface-hub<1.0,>=0.34.0 in /usr/local/lib/python3.12/dist-packages (from transformers) (0.35.0)\n",
            "Requirement already satisfied: numpy>=1.17 in /usr/local/lib/python3.12/dist-packages (from transformers) (2.0.2)\n",
            "Requirement already satisfied: packaging>=20.0 in /usr/local/lib/python3.12/dist-packages (from transformers) (25.0)\n",
            "Requirement already satisfied: pyyaml>=5.1 in /usr/local/lib/python3.12/dist-packages (from transformers) (6.0.2)\n",
            "Requirement already satisfied: regex!=2019.12.17 in /usr/local/lib/python3.12/dist-packages (from transformers) (2024.11.6)\n",
            "Requirement already satisfied: requests in /usr/local/lib/python3.12/dist-packages (from transformers) (2.32.4)\n",
            "Requirement already satisfied: tokenizers<=0.23.0,>=0.22.0 in /usr/local/lib/python3.12/dist-packages (from transformers) (0.22.0)\n",
            "Requirement already satisfied: safetensors>=0.4.3 in /usr/local/lib/python3.12/dist-packages (from transformers) (0.6.2)\n",
            "Requirement already satisfied: tqdm>=4.27 in /usr/local/lib/python3.12/dist-packages (from transformers) (4.67.1)\n",
            "Requirement already satisfied: fsspec>=2023.5.0 in /usr/local/lib/python3.12/dist-packages (from huggingface-hub<1.0,>=0.34.0->transformers) (2025.3.0)\n",
            "Requirement already satisfied: typing-extensions>=3.7.4.3 in /usr/local/lib/python3.12/dist-packages (from huggingface-hub<1.0,>=0.34.0->transformers) (4.15.0)\n",
            "Requirement already satisfied: hf-xet<2.0.0,>=1.1.3 in /usr/local/lib/python3.12/dist-packages (from huggingface-hub<1.0,>=0.34.0->transformers) (1.1.10)\n",
            "Requirement already satisfied: charset_normalizer<4,>=2 in /usr/local/lib/python3.12/dist-packages (from requests->transformers) (3.4.3)\n",
            "Requirement already satisfied: idna<4,>=2.5 in /usr/local/lib/python3.12/dist-packages (from requests->transformers) (3.10)\n",
            "Requirement already satisfied: urllib3<3,>=1.21.1 in /usr/local/lib/python3.12/dist-packages (from requests->transformers) (2.5.0)\n",
            "Requirement already satisfied: certifi>=2017.4.17 in /usr/local/lib/python3.12/dist-packages (from requests->transformers) (2025.8.3)\n",
            "Using device: cuda\n",
            "Loading ESM-2 model: esm2_t12_35M_UR50D...\n"
          ]
        },
        {
          "output_type": "stream",
          "name": "stderr",
          "text": [
            "Some weights of EsmModel were not initialized from the model checkpoint at facebook/esm2_t12_35M_UR50D and are newly initialized: ['pooler.dense.bias', 'pooler.dense.weight']\n",
            "You should probably TRAIN this model on a down-stream task to be able to use it for predictions and inference.\n"
          ]
        },
        {
          "output_type": "stream",
          "name": "stdout",
          "text": [
            "Loading ChemBERTa tokenizer and model: DeepChem/ChemBERTa-77M-MTR...\n"
          ]
        },
        {
          "output_type": "stream",
          "name": "stderr",
          "text": [
            "Some weights of RobertaModel were not initialized from the model checkpoint at DeepChem/ChemBERTa-77M-MTR and are newly initialized: ['pooler.dense.bias', 'pooler.dense.weight']\n",
            "You should probably TRAIN this model on a down-stream task to be able to use it for predictions and inference.\n"
          ]
        },
        {
          "output_type": "stream",
          "name": "stdout",
          "text": [
            "\n",
            "--- Conditional VAE Molecule Generation Interface ---\n",
            "Enter the new protein sequence: \n",
            "> MVLEMLNPIHYNITSIVPEAMPAATMPVLLLTGLFLLVWNYEGTSSIPGPGYCMGIGPLISHGRFLWMGIGSACNYYNRVYGEFMRVWISGEETLIISKSSSMFHIMKHNHYSSRFGSKLGLQCIGMHEKGIIFNNNPELWKTTRPFFMKALSGPGLVRMVTVCAESLKTHLDRLEEVTNESGYVDVLTLLRRVMLDTSNTLFLRIPLDESAIVVKIQGYFDAWQALLIKPDIFFKISWLYKKYEKSVKDLKDAIEVLIAEKRRRISTEEKLEECMDFATELILAEKRGDLTRENVNQCILEMLIAAPDTMSVSLFFMLFLIAKHPNVEEAIIKEIQTVIGERDIKIDDIQKLKVMENFIYESMRYQPVVDLVMRKALEDDVIDGYPVKKGTNIILNIGRMHRLEFFPKPNEFTLENFAKNVPYRYFQPFGFGPRGCAGKYIAMVMMKAILVTLLRRFHVKTLQGQCVESIQKIHDLSLHPDETKNMLEMIFTPRNSDRCLEH\n",
            "Enter number of SMILES to generate (default: 10): 150\n",
            "Enter Max SMILES Length in tokens (default: 90 to favor short/valid): 56\n",
            "Enter Temperature (e.g., 0.8 for high validity, 1.2 for high diversity, default: 0.8): 1.5\n",
            "\n",
            "Starting generation process...\n",
            "Status: Sequence is new. Computing ESM-2 embedding on-the-fly...\n",
            "\n",
            "--- Generation Parameters ---\n",
            "Samples: 150 | Max Len: 56 tokens | Temp: 1.5 | Top-P: 0.99\n",
            "-----------------------------\n",
            "\n"
          ]
        },
        {
          "output_type": "stream",
          "name": "stderr",
          "text": [
            "[05:14:47] Explicit valence for atom # 21 O, 3, is greater than permitted\n",
            "[05:14:47] SMILES Parse Error: unclosed ring for input: 'COc1ccc(F)cc1Cn1c(O)cnc1C12CC(C1)(C2)C(=O)N(C)CCc1cccnc'\n"
          ]
        },
        {
          "output_type": "stream",
          "name": "stdout",
          "text": [
            "Sample 1 of 150: [INVALID] B\\C=C/C(O)Cn1cc(I)c(=O)n(C2CCCCC2O)c1=OC=Oc1ccccc1FNC\n",
            "Sample 2 of 150: [INVALID] COc1ccc(F)cc1Cn1c(O)cnc1C12CC(C1)(C2)C(=O)N(C)CCc1cccnc\n",
            "Sample 3 of 150: [VALID] Nc1oc(nc1C(=O)Nc1ccc(CCCc2ccncc2C)cc1)-c1cnccc1S(C)(=O)\n"
          ]
        },
        {
          "output_type": "stream",
          "name": "stderr",
          "text": [
            "[05:14:48] SMILES Parse Error: unclosed ring for input: 'COc1c(F)cccc1COc1ccc2nc(=O)c(=O)n(CC#Cc3ccc(cc3)C(C)=O)c'\n",
            "[05:14:48] SMILES Parse Error: unclosed ring for input: 'Oc1cc(\\C=C\\c2ccc(\\C=C/c3ccn(Cc4cccc(B)c4)n3)c3CCCCc23)nc'\n",
            "[05:14:48] SMILES Parse Error: syntax error while parsing: CC(NC(=O)c1ccc(cc1)-n1cnnn1)C(O)(c1cncn1C)c1ccccc1c1cc(\n",
            "[05:14:48] SMILES Parse Error: check for mistakes around position 55:\n",
            "[05:14:48] 1cncn1C)c1ccccc1c1cc(\n",
            "[05:14:48] ~~~~~~~~~~~~~~~~~~~~^\n",
            "[05:14:48] SMILES Parse Error: Failed parsing SMILES 'CC(NC(=O)c1ccc(cc1)-n1cnnn1)C(O)(c1cncn1C)c1ccccc1c1cc(' for input: 'CC(NC(=O)c1ccc(cc1)-n1cnnn1)C(O)(c1cncn1C)c1ccccc1c1cc('\n"
          ]
        },
        {
          "output_type": "stream",
          "name": "stdout",
          "text": [
            "Sample 4 of 150: [INVALID] COc1c(F)cccc1COc1ccc2nc(=O)c(=O)n(CC#Cc3ccc(cc3)C(C)=O)c\n",
            "Sample 5 of 150: [INVALID] Oc1cc(\\C=C\\c2ccc(\\C=C/c3ccn(Cc4cccc(B)c4)n3)c3CCCCc23)nc\n",
            "Sample 6 of 150: [INVALID] CC(NC(=O)c1ccc(cc1)-n1cnnn1)C(O)(c1cncn1C)c1ccccc1c1cc(\n"
          ]
        },
        {
          "output_type": "stream",
          "name": "stderr",
          "text": [
            "[05:14:48] SMILES Parse Error: syntax error while parsing: B-/OC(=O)C1Cc2ccccc2C1C1\\C=CS(=O)(=O)N2CC(C=C2C(O)c2cnn\n",
            "[05:14:48] SMILES Parse Error: check for mistakes around position 3:\n",
            "[05:14:48] B-/OC(=O)C1Cc2ccccc2C1C1\\C=CS(=O)(=O)N2CC\n",
            "[05:14:48] ~~^\n",
            "[05:14:48] SMILES Parse Error: Failed parsing SMILES 'B-/OC(=O)C1Cc2ccccc2C1C1\\C=CS(=O)(=O)N2CC(C=C2C(O)c2cnn' for input: 'B-/OC(=O)C1Cc2ccccc2C1C1\\C=CS(=O)(=O)N2CC(C=C2C(O)c2cnn'\n",
            "[05:14:48] SMILES Parse Error: extra open parentheses while parsing: COCCOCCOc1ccc(Cn2cnc(c3nccc2-c2ccc(C)cc2C)-c2ccc3OCOc3c2\n",
            "[05:14:48] SMILES Parse Error: check for mistakes around position 14:\n",
            "[05:14:48] COCCOCCOc1ccc(Cn2cnc(c3nccc2-c2ccc(C)cc2C\n",
            "[05:14:48] ~~~~~~~~~~~~~^\n",
            "[05:14:48] SMILES Parse Error: Failed parsing SMILES 'COCCOCCOc1ccc(Cn2cnc(c3nccc2-c2ccc(C)cc2C)-c2ccc3OCOc3c2' for input: 'COCCOCCOc1ccc(Cn2cnc(c3nccc2-c2ccc(C)cc2C)-c2ccc3OCOc3c2'\n"
          ]
        },
        {
          "output_type": "stream",
          "name": "stdout",
          "text": [
            "Sample 7 of 150: [INVALID] B-/OC(=O)C1Cc2ccccc2C1C1\\C=CS(=O)(=O)N2CC(C=C2C(O)c2cnn\n",
            "Sample 8 of 150: [INVALID] COCCOCCOc1ccc(Cn2cnc(c3nccc2-c2ccc(C)cc2C)-c2ccc3OCOc3c2\n",
            "Sample 9 of 150: [VALID] CCCCOc1cc(C)cc2cc(-c3ccccc3)c(OCc3cc(F)cc(F)c3)c(=O)n12\n"
          ]
        },
        {
          "output_type": "stream",
          "name": "stderr",
          "text": [
            "[05:14:48] SMILES Parse Error: unclosed ring for input: 'COc1cc(CCc2cnc(NCc3cccnc3)nc2=N)cc(c1)N(C)C(N)=Oc1ccccc'\n",
            "[05:14:48] SMILES Parse Error: unclosed ring for input: 'FC1(F)CCC(F)(C(F)CO1)\\C=C\\c1ccncc1c1cc(ncc1C(F)(F)F)N1C'\n",
            "[05:14:48] SMILES Parse Error: unclosed ring for input: 'C(\\c1cccnc1)c1ccn(n1)-c1ccccc1C=OS(C)(=O)=Oc1cccs1N1C'\n"
          ]
        },
        {
          "output_type": "stream",
          "name": "stdout",
          "text": [
            "Sample 10 of 150: [INVALID] COc1cc(CCc2cnc(NCc3cccnc3)nc2=N)cc(c1)N(C)C(N)=Oc1ccccc\n",
            "Sample 11 of 150: [INVALID] FC1(F)CCC(F)(C(F)CO1)\\C=C\\c1ccncc1c1cc(ncc1C(F)(F)F)N1C\n",
            "Sample 12 of 150: [INVALID] C(\\c1cccnc1)c1ccn(n1)-c1ccccc1C=OS(C)(=O)=Oc1cccs1N1C\n"
          ]
        },
        {
          "output_type": "stream",
          "name": "stderr",
          "text": [
            "[05:14:48] SMILES Parse Error: unclosed ring for input: 'C#CCC(C)Oc1cc(F)c(F)cc1-c1csc2ncnn12C1OC(C)C(O)c2ncccc1'\n",
            "[05:14:49] SMILES Parse Error: syntax error while parsing: Nc1nc2ccc(cn2c1C(=O)C(F)(F)F)C1=CCCCC1C(F)(F)FC(O)=ON(\n",
            "[05:14:49] SMILES Parse Error: check for mistakes around position 54:\n",
            "[05:14:49] CCCC1C(F)(F)FC(O)=ON(\n",
            "[05:14:49] ~~~~~~~~~~~~~~~~~~~~^\n",
            "[05:14:49] SMILES Parse Error: Failed parsing SMILES 'Nc1nc2ccc(cn2c1C(=O)C(F)(F)F)C1=CCCCC1C(F)(F)FC(O)=ON(' for input: 'Nc1nc2ccc(cn2c1C(=O)C(F)(F)F)C1=CCCCC1C(F)(F)FC(O)=ON('\n"
          ]
        },
        {
          "output_type": "stream",
          "name": "stdout",
          "text": [
            "Sample 13 of 150: [INVALID] C#CCC(C)Oc1cc(F)c(F)cc1-c1csc2ncnn12C1OC(C)C(O)c2ncccc1\n",
            "Sample 14 of 150: [INVALID] Nc1nc2ccc(cn2c1C(=O)C(F)(F)F)C1=CCCCC1C(F)(F)FC(O)=ON(\n"
          ]
        },
        {
          "output_type": "stream",
          "name": "stderr",
          "text": [
            "[05:14:49] SMILES Parse Error: unclosed ring for input: 'COc1c(-c2ccc(C)cc2)c2ccncc2nc1-c1cccc(O)c1CC(=O)OCCc1c'\n",
            "[05:14:49] SMILES Parse Error: syntax error while parsing: Nc1cccc(c1O)N(=O)OCCc1ccnc(I)c1OC(O-)=OOC(=O)NCCCCn1cn\n",
            "[05:14:49] SMILES Parse Error: check for mistakes around position 37:\n",
            "[05:14:49] )OCCc1ccnc(I)c1OC(O-)=OOC(=O)NCCCCn1cn\n",
            "[05:14:49] ~~~~~~~~~~~~~~~~~~~~^\n",
            "[05:14:49] SMILES Parse Error: extra open parentheses while parsing: Nc1cccc(c1O)N(=O)OCCc1ccnc(I)c1OC(O-)=OOC(=O)NCCCCn1cn\n",
            "[05:14:49] SMILES Parse Error: check for mistakes around position 34:\n",
            "[05:14:49] (=O)OCCc1ccnc(I)c1OC(O-)=OOC(=O)NCCCCn1cn\n",
            "[05:14:49] ~~~~~~~~~~~~~~~~~~~~^\n",
            "[05:14:49] SMILES Parse Error: Failed parsing SMILES 'Nc1cccc(c1O)N(=O)OCCc1ccnc(I)c1OC(O-)=OOC(=O)NCCCCn1cn' for input: 'Nc1cccc(c1O)N(=O)OCCc1ccnc(I)c1OC(O-)=OOC(=O)NCCCCn1cn'\n"
          ]
        },
        {
          "output_type": "stream",
          "name": "stdout",
          "text": [
            "Sample 15 of 150: [INVALID] COc1c(-c2ccc(C)cc2)c2ccncc2nc1-c1cccc(O)c1CC(=O)OCCc1c\n",
            "Sample 16 of 150: [INVALID] Nc1cccc(c1O)N(=O)OCCc1ccnc(I)c1OC(O-)=OOC(=O)NCCCCn1cn\n"
          ]
        },
        {
          "output_type": "stream",
          "name": "stderr",
          "text": [
            "[05:14:49] SMILES Parse Error: unclosed ring for input: 'O=c1nncc2cc(ccc12)-c1csc(n1)N1CCc2ncsc2C1C1CN2CCCC2c2cc'\n"
          ]
        },
        {
          "output_type": "stream",
          "name": "stdout",
          "text": [
            "Sample 17 of 150: [INVALID] O=c1nncc2cc(ccc12)-c1csc(n1)N1CCc2ncsc2C1C1CN2CCCC2c2cc\n",
            "Sample 18 of 150: [VALID] Fc1cc(N)cc2ncc(nc12)C1CCC(CC1)NC1CCOCC1Cc1ccccc1C(F)(F)\n"
          ]
        },
        {
          "output_type": "stream",
          "name": "stderr",
          "text": [
            "[05:14:49] SMILES Parse Error: extra open parentheses while parsing: COc1ccc2nc3c(c(N4CC6CCCCC4C=C)cccc34)c(=O)nc2c1N(C1CCC2\n",
            "[05:14:49] SMILES Parse Error: check for mistakes around position 49:\n",
            "[05:14:49] C)cccc34)c(=O)nc2c1N(C1CCC2\n",
            "[05:14:49] ~~~~~~~~~~~~~~~~~~~~^\n",
            "[05:14:49] SMILES Parse Error: Failed parsing SMILES 'COc1ccc2nc3c(c(N4CC6CCCCC4C=C)cccc34)c(=O)nc2c1N(C1CCC2' for input: 'COc1ccc2nc3c(c(N4CC6CCCCC4C=C)cccc34)c(=O)nc2c1N(C1CCC2'\n",
            "[05:14:49] SMILES Parse Error: unclosed ring for input: 'Oc1coc(Cn2ccc3ccccc23)cc1NCC1(C2CC3CC2CC(C3)C1=O)c1cccc'\n"
          ]
        },
        {
          "output_type": "stream",
          "name": "stdout",
          "text": [
            "Sample 19 of 150: [INVALID] COc1ccc2nc3c(c(N4CC6CCCCC4C=C)cccc34)c(=O)nc2c1N(C1CCC2\n",
            "Sample 20 of 150: [INVALID] Oc1coc(Cn2ccc3ccccc23)cc1NCC1(C2CC3CC2CC(C3)C1=O)c1cccc\n"
          ]
        },
        {
          "output_type": "stream",
          "name": "stderr",
          "text": [
            "[05:14:49] SMILES Parse Error: unclosed ring for input: 'Fc1cnc(c1)C(=O)CC(Nc1ccccn1)C(F)(F)Fc1cccnc1C(=O)NCc1c'\n",
            "[05:14:49] SMILES Parse Error: extra open parentheses while parsing: COc1cc2c(cn1)\\C=C\\CCN(C)C3=OC(C)=OOc1ccc(OS(O)(=O)=Oc\n",
            "[05:14:49] SMILES Parse Error: check for mistakes around position 41:\n",
            "[05:14:49] N(C)C3=OC(C)=OOc1ccc(OS(O)(=O)=Oc\n",
            "[05:14:49] ~~~~~~~~~~~~~~~~~~~~^\n",
            "[05:14:49] SMILES Parse Error: Failed parsing SMILES 'COc1cc2c(cn1)\\C=C\\CCN(C)C3=OC(C)=OOc1ccc(OS(O)(=O)=Oc' for input: 'COc1cc2c(cn1)\\C=C\\CCN(C)C3=OC(C)=OOc1ccc(OS(O)(=O)=Oc'\n",
            "[05:14:49] Can't kekulize mol.  Unkekulized atoms: 7 8 9 10 11 12 15\n"
          ]
        },
        {
          "output_type": "stream",
          "name": "stdout",
          "text": [
            "Sample 21 of 150: [INVALID] Fc1cnc(c1)C(=O)CC(Nc1ccccn1)C(F)(F)Fc1cccnc1C(=O)NCc1c\n",
            "Sample 22 of 150: [INVALID] COc1cc2c(cn1)\\C=C\\CCN(C)C3=OC(C)=OOc1ccc(OS(O)(=O)=Oc\n",
            "Sample 23 of 150: [INVALID] CC1(N)CN(CC1c1cnccc1C1=O)c1cccnc1C(C)(C)CC(=O)c1ccc(F)\n"
          ]
        },
        {
          "output_type": "stream",
          "name": "stderr",
          "text": [
            "[05:14:50] Explicit valence for atom # 17 O, 3, is greater than permitted\n",
            "[05:14:50] SMILES Parse Error: unclosed ring for input: 'Fc1ccc(c(CNCc2ccc3OCOc3c2)C1)-n1ncc2cc(cc(F)c12)-c1ccncc'\n",
            "[05:14:50] SMILES Parse Error: syntax error while parsing: Fc1c(F)c(F)c(F)c(F)c1N1CCCOC1C12CC(CC(O)(C#CC3CCCO3)C1=\n",
            "[05:14:50] SMILES Parse Error: check for mistakes around position 55:\n",
            "[05:14:50] (CC(O)(C#CC3CCCO3)C1=\n",
            "[05:14:50] ~~~~~~~~~~~~~~~~~~~~^\n",
            "[05:14:50] SMILES Parse Error: extra open parentheses while parsing: Fc1c(F)c(F)c(F)c(F)c1N1CCCOC1C12CC(CC(O)(C#CC3CCCO3)C1=\n",
            "[05:14:50] SMILES Parse Error: check for mistakes around position 35:\n",
            "[05:14:50] )c(F)c1N1CCCOC1C12CC(CC(O)(C#CC3CCCO3)C1=\n",
            "[05:14:50] ~~~~~~~~~~~~~~~~~~~~^\n",
            "[05:14:50] SMILES Parse Error: Failed parsing SMILES 'Fc1c(F)c(F)c(F)c(F)c1N1CCCOC1C12CC(CC(O)(C#CC3CCCO3)C1=' for input: 'Fc1c(F)c(F)c(F)c(F)c1N1CCCOC1C12CC(CC(O)(C#CC3CCCO3)C1='\n"
          ]
        },
        {
          "output_type": "stream",
          "name": "stdout",
          "text": [
            "Sample 24 of 150: [INVALID] CN1C(=O)N\\C(=C\\c2ccn3ncnc3c2)C1=OC(=O)c1ccccc1c1ccccc1\n",
            "Sample 25 of 150: [INVALID] Fc1ccc(c(CNCc2ccc3OCOc3c2)C1)-n1ncc2cc(cc(F)c12)-c1ccncc\n",
            "Sample 26 of 150: [INVALID] Fc1c(F)c(F)c(F)c(F)c1N1CCCOC1C12CC(CC(O)(C#CC3CCCO3)C1=\n"
          ]
        },
        {
          "output_type": "stream",
          "name": "stderr",
          "text": [
            "[05:14:50] SMILES Parse Error: unclosed ring for input: 'O=c1cc(O)c(CC2COc3cc(O)ccc3CC2=O)oc1-c1ccncc1CC(=O)NC1C'\n",
            "[05:14:50] SMILES Parse Error: syntax error while parsing: Nc1cccc(c1)-c1cc2c(F)c(B)ccc2o1N(O-)=Oc1ccc(O)cc1OC1=\n",
            "[05:14:50] SMILES Parse Error: check for mistakes around position 36:\n",
            "[05:14:50] c2c(F)c(B)ccc2o1N(O-)=Oc1ccc(O)cc1OC1=\n",
            "[05:14:50] ~~~~~~~~~~~~~~~~~~~~^\n",
            "[05:14:50] SMILES Parse Error: extra open parentheses while parsing: Nc1cccc(c1)-c1cc2c(F)c(B)ccc2o1N(O-)=Oc1ccc(O)cc1OC1=\n",
            "[05:14:50] SMILES Parse Error: check for mistakes around position 33:\n",
            "[05:14:50] c1cc2c(F)c(B)ccc2o1N(O-)=Oc1ccc(O)cc1OC1=\n",
            "[05:14:50] ~~~~~~~~~~~~~~~~~~~~^\n",
            "[05:14:50] SMILES Parse Error: Failed parsing SMILES 'Nc1cccc(c1)-c1cc2c(F)c(B)ccc2o1N(O-)=Oc1ccc(O)cc1OC1=' for input: 'Nc1cccc(c1)-c1cc2c(F)c(B)ccc2o1N(O-)=Oc1ccc(O)cc1OC1='\n"
          ]
        },
        {
          "output_type": "stream",
          "name": "stdout",
          "text": [
            "Sample 27 of 150: [INVALID] O=c1cc(O)c(CC2COc3cc(O)ccc3CC2=O)oc1-c1ccncc1CC(=O)NC1C\n",
            "Sample 28 of 150: [VALID] C1=C(CSC1)Oc1cncnc1C(=O)N1CC2(C1)C(C1CCCCCCC1)c1ccccc21\n",
            "Sample 29 of 150: [INVALID] Nc1cccc(c1)-c1cc2c(F)c(B)ccc2o1N(O-)=Oc1ccc(O)cc1OC1=\n"
          ]
        },
        {
          "output_type": "stream",
          "name": "stderr",
          "text": [
            "[05:14:50] SMILES Parse Error: extra open parentheses while parsing: CC1CO\\C(CCCCN)n2cc(F)c(=O)nc12c1ccccc1N1Cc2ccc(cc2C1=O\n",
            "[05:14:50] SMILES Parse Error: check for mistakes around position 47:\n",
            "[05:14:50] nc12c1ccccc1N1Cc2ccc(cc2C1=O\n",
            "[05:14:50] ~~~~~~~~~~~~~~~~~~~~^\n",
            "[05:14:50] SMILES Parse Error: Failed parsing SMILES 'CC1CO\\C(CCCCN)n2cc(F)c(=O)nc12c1ccccc1N1Cc2ccc(cc2C1=O' for input: 'CC1CO\\C(CCCCN)n2cc(F)c(=O)nc12c1ccccc1N1Cc2ccc(cc2C1=O'\n",
            "[05:14:50] Explicit valence for atom # 28 O, 4, is greater than permitted\n",
            "[05:14:50] Explicit valence for atom # 31 F, 2, is greater than permitted\n"
          ]
        },
        {
          "output_type": "stream",
          "name": "stdout",
          "text": [
            "Sample 30 of 150: [INVALID] CC1CO\\C(CCCCN)n2cc(F)c(=O)nc12c1ccccc1N1Cc2ccc(cc2C1=O\n",
            "Sample 31 of 150: [INVALID] B\\C=C\\C=C1\\C(=O)NC(=O)N(c2ccc(F)cc2)c2ccccc12c1ccco1NC\n",
            "Sample 32 of 150: [INVALID] Bc1cnc(NCc2ccccc2)nc1NCCn1cncn1NC1CC(C1)\\C=C\\CFC(O)=O\n"
          ]
        },
        {
          "output_type": "stream",
          "name": "stderr",
          "text": [
            "[05:14:50] SMILES Parse Error: unclosed ring for input: 'Bc1ccc2\\C(CC3=C/NN3)C#Cc3cccc(Cn4c4cnc5ccccc5c4=O)C(=O)c'\n",
            "[05:14:50] SMILES Parse Error: unclosed ring for input: 'Fc1cc(cnc1C)N1C(C)CC(C1)N1CCC(CCn2cncn2)C1=OC#CCCOc1ccc'\n",
            "[05:14:50] SMILES Parse Error: unclosed ring for input: 'NCC1=CCCN(CCOc2ccc(B)cn2)C1c1cccs1NS(C)(=O)=OC5Oc1c'\n"
          ]
        },
        {
          "output_type": "stream",
          "name": "stdout",
          "text": [
            "Sample 33 of 150: [INVALID] Bc1ccc2\\C(CC3=C/NN3)C#Cc3cccc(Cn4c4cnc5ccccc5c4=O)C(=O)c\n",
            "Sample 34 of 150: [INVALID] Fc1cc(cnc1C)N1C(C)CC(C1)N1CCC(CCn2cncn2)C1=OC#CCCOc1ccc\n",
            "Sample 35 of 150: [INVALID] NCC1=CCCN(CCOc2ccc(B)cn2)C1c1cccs1NS(C)(=O)=OC5Oc1c\n"
          ]
        },
        {
          "output_type": "stream",
          "name": "stderr",
          "text": [
            "[05:14:50] SMILES Parse Error: extra open parentheses while parsing: C(c1ccccc1)n1ccnc1C1C2Oc3ccc(F)cc3c2c2CN(Cc3ccccn3)C(\\C\n",
            "[05:14:50] SMILES Parse Error: check for mistakes around position 53:\n",
            "[05:14:50] c3c2c2CN(Cc3ccccn3)C(\\C\n",
            "[05:14:50] ~~~~~~~~~~~~~~~~~~~~^\n",
            "[05:14:50] SMILES Parse Error: Failed parsing SMILES 'C(c1ccccc1)n1ccnc1C1C2Oc3ccc(F)cc3c2c2CN(Cc3ccccn3)C(\\C' for input: 'C(c1ccccc1)n1ccnc1C1C2Oc3ccc(F)cc3c2c2CN(Cc3ccccn3)C(\\C'\n",
            "[05:14:51] SMILES Parse Error: extra open parentheses while parsing: B\\C(=C\\C=C(\\c1ccc(cc1)N(CCCn1ccnc1)c1ccccc1O)c1ccc(F)cc1\n",
            "[05:14:51] SMILES Parse Error: check for mistakes around position 4:\n",
            "[05:14:51] B\\C(=C\\C=C(\\c1ccc(cc1)N(CCCn1ccnc1)c1cccc\n",
            "[05:14:51] ~~~^\n",
            "[05:14:51] SMILES Parse Error: Failed parsing SMILES 'B\\C(=C\\C=C(\\c1ccc(cc1)N(CCCn1ccnc1)c1ccccc1O)c1ccc(F)cc1' for input: 'B\\C(=C\\C=C(\\c1ccc(cc1)N(CCCn1ccnc1)c1ccccc1O)c1ccc(F)cc1'\n",
            "[05:14:51] SMILES Parse Error: unclosed ring for input: 'Bc1cncc(Nc2ccc(-c3ccnc(C(=O)O)c3)n(n2)-c2ccccn2)c1N1CCO'\n"
          ]
        },
        {
          "output_type": "stream",
          "name": "stdout",
          "text": [
            "Sample 36 of 150: [INVALID] C(c1ccccc1)n1ccnc1C1C2Oc3ccc(F)cc3c2c2CN(Cc3ccccn3)C(\\C\n",
            "Sample 37 of 150: [INVALID] B\\C(=C\\C=C(\\c1ccc(cc1)N(CCCn1ccnc1)c1ccccc1O)c1ccc(F)cc1\n",
            "Sample 38 of 150: [INVALID] Bc1cncc(Nc2ccc(-c3ccnc(C(=O)O)c3)n(n2)-c2ccccn2)c1N1CCO\n"
          ]
        },
        {
          "output_type": "stream",
          "name": "stderr",
          "text": [
            "[05:14:51] SMILES Parse Error: extra open parentheses while parsing: Bc1ccc2c3cccnc3nc2c1NCc1ccno1N(C\\C=C\\c1ccc(F)cc1c1ccc\n",
            "[05:14:51] SMILES Parse Error: check for mistakes around position 31:\n",
            "[05:14:51] ccnc3nc2c1NCc1ccno1N(C\\C=C\\c1ccc(F)cc1c1c\n",
            "[05:14:51] ~~~~~~~~~~~~~~~~~~~~^\n",
            "[05:14:51] SMILES Parse Error: Failed parsing SMILES 'Bc1ccc2c3cccnc3nc2c1NCc1ccno1N(C\\C=C\\c1ccc(F)cc1c1ccc' for input: 'Bc1ccc2c3cccnc3nc2c1NCc1ccno1N(C\\C=C\\c1ccc(F)cc1c1ccc'\n",
            "[05:14:51] SMILES Parse Error: unclosed ring for input: 'Cc1c(-c2c(O)cc3c(c2C)c(C)c2C(=O)NC(=O)c3cccnc23)cnnc1=O'\n",
            "[05:14:51] SMILES Parse Error: syntax error while parsing: C(Cc1ccccc1-c1ccc(nc1)N1CCCC1)CN1CCOCC1C1c2cccn2B-(CCn2\n",
            "[05:14:51] SMILES Parse Error: check for mistakes around position 51:\n",
            "[05:14:51] CN1CCOCC1C1c2cccn2B-(CCn2\n",
            "[05:14:51] ~~~~~~~~~~~~~~~~~~~~^\n",
            "[05:14:51] SMILES Parse Error: Failed parsing SMILES 'C(Cc1ccccc1-c1ccc(nc1)N1CCCC1)CN1CCOCC1C1c2cccn2B-(CCn2' for input: 'C(Cc1ccccc1-c1ccc(nc1)N1CCCC1)CN1CCOCC1C1c2cccn2B-(CCn2'\n"
          ]
        },
        {
          "output_type": "stream",
          "name": "stdout",
          "text": [
            "Sample 39 of 150: [INVALID] Bc1ccc2c3cccnc3nc2c1NCc1ccno1N(C\\C=C\\c1ccc(F)cc1c1ccc\n",
            "Sample 40 of 150: [INVALID] Cc1c(-c2c(O)cc3c(c2C)c(C)c2C(=O)NC(=O)c3cccnc23)cnnc1=O\n",
            "Sample 41 of 150: [INVALID] C(Cc1ccccc1-c1ccc(nc1)N1CCCC1)CN1CCOCC1C1c2cccn2B-(CCn2\n"
          ]
        },
        {
          "output_type": "stream",
          "name": "stderr",
          "text": [
            "[05:14:51] SMILES Parse Error: extra open parentheses while parsing: CC1CN(C)C1Cc2ccc(OC3Cc4c(OCC2C2CNc4ncccc4O2)cc34)C(c1c(C\n",
            "[05:14:51] SMILES Parse Error: check for mistakes around position 51:\n",
            "[05:14:51] 2CNc4ncccc4O2)cc34)C(c1c(C\n",
            "[05:14:51] ~~~~~~~~~~~~~~~~~~~~^\n",
            "[05:14:51] SMILES Parse Error: extra open parentheses while parsing: CC1CN(C)C1Cc2ccc(OC3Cc4c(OCC2C2CNc4ncccc4O2)cc34)C(c1c(C\n",
            "[05:14:51] SMILES Parse Error: check for mistakes around position 55:\n",
            "[05:14:51] 4ncccc4O2)cc34)C(c1c(C\n",
            "[05:14:51] ~~~~~~~~~~~~~~~~~~~~^\n",
            "[05:14:51] SMILES Parse Error: Failed parsing SMILES 'CC1CN(C)C1Cc2ccc(OC3Cc4c(OCC2C2CNc4ncccc4O2)cc34)C(c1c(C' for input: 'CC1CN(C)C1Cc2ccc(OC3Cc4c(OCC2C2CNc4ncccc4O2)cc34)C(c1c(C'\n",
            "[05:14:51] SMILES Parse Error: extra open parentheses while parsing: S=c1c(sc2ccccc12)-c1cccnc1C1COc2cccnc2-n2cccn12c1ccc(c\n",
            "[05:14:51] SMILES Parse Error: check for mistakes around position 53:\n",
            "[05:14:51] cccnc2-n2cccn12c1ccc(c\n",
            "[05:14:51] ~~~~~~~~~~~~~~~~~~~~^\n",
            "[05:14:51] SMILES Parse Error: Failed parsing SMILES 'S=c1c(sc2ccccc12)-c1cccnc1C1COc2cccnc2-n2cccn12c1ccc(c' for input: 'S=c1c(sc2ccccc12)-c1cccnc1C1COc2cccnc2-n2cccn12c1ccc(c'\n",
            "[05:14:51] SMILES Parse Error: extra open parentheses while parsing: Fc1cncc(F)c1C(COCc1ccccc1-c1cccnc1)\\C(=O)OC(Cn1ccnn1)(c1\n",
            "[05:14:51] SMILES Parse Error: check for mistakes around position 54:\n",
            "[05:14:51] 1)\\C(=O)OC(Cn1ccnn1)(c1\n",
            "[05:14:51] ~~~~~~~~~~~~~~~~~~~~^\n",
            "[05:14:51] SMILES Parse Error: Failed parsing SMILES 'Fc1cncc(F)c1C(COCc1ccccc1-c1cccnc1)\\C(=O)OC(Cn1ccnn1)(c1' for input: 'Fc1cncc(F)c1C(COCc1ccccc1-c1cccnc1)\\C(=O)OC(Cn1ccnn1)(c1'\n"
          ]
        },
        {
          "output_type": "stream",
          "name": "stdout",
          "text": [
            "Sample 42 of 150: [INVALID] CC1CN(C)C1Cc2ccc(OC3Cc4c(OCC2C2CNc4ncccc4O2)cc34)C(c1c(C\n",
            "Sample 43 of 150: [INVALID] S=c1c(sc2ccccc12)-c1cccnc1C1COc2cccnc2-n2cccn12c1ccc(c\n",
            "Sample 44 of 150: [INVALID] Fc1cncc(F)c1C(COCc1ccccc1-c1cccnc1)\\C(=O)OC(Cn1ccnn1)(c1\n"
          ]
        },
        {
          "output_type": "stream",
          "name": "stderr",
          "text": [
            "[05:14:51] SMILES Parse Error: syntax error while parsing: C(23)(2)n1cnc2cc(OCc3cccc(\\C=C\\c4ccon4)c3)cc(-c3cccnc3)c\n",
            "[05:14:51] SMILES Parse Error: check for mistakes around position 3:\n",
            "[05:14:51] C(23)(2)n1cnc2cc(OCc3cccc(\\C=C\\c4ccon4)c3\n",
            "[05:14:51] ~~^\n",
            "[05:14:51] SMILES Parse Error: Failed parsing SMILES 'C(23)(2)n1cnc2cc(OCc3cccc(\\C=C\\c4ccon4)c3)cc(-c3cccnc3)c' for input: 'C(23)(2)n1cnc2cc(OCc3cccc(\\C=C\\c4ccon4)c3)cc(-c3cccnc3)c'\n",
            "[05:14:51] SMILES Parse Error: extra open parentheses while parsing: CC(=O)Nc1ccc2OCc3ccccc3\\C(=C/c3cnnc3)c2c1N=C(Cc1ccncc1\n",
            "[05:14:51] SMILES Parse Error: check for mistakes around position 45:\n",
            "[05:14:51] C(=C/c3cnnc3)c2c1N=C(Cc1ccncc1\n",
            "[05:14:51] ~~~~~~~~~~~~~~~~~~~~^\n",
            "[05:14:51] SMILES Parse Error: Failed parsing SMILES 'CC(=O)Nc1ccc2OCc3ccccc3\\C(=C/c3cnnc3)c2c1N=C(Cc1ccncc1' for input: 'CC(=O)Nc1ccc2OCc3ccccc3\\C(=C/c3cnnc3)c2c1N=C(Cc1ccncc1'\n",
            "[05:14:51] Can't kekulize mol.  Unkekulized atoms: 17 18 19 20 21 22 23 24 25\n"
          ]
        },
        {
          "output_type": "stream",
          "name": "stdout",
          "text": [
            "Sample 45 of 150: [INVALID] C(23)(2)n1cnc2cc(OCc3cccc(\\C=C\\c4ccon4)c3)cc(-c3cccnc3)c\n",
            "Sample 46 of 150: [INVALID] CC(=O)Nc1ccc2OCc3ccccc3\\C(=C/c3cnnc3)c2c1N=C(Cc1ccncc1\n",
            "Sample 47 of 150: [INVALID] Fc1cc(F)cc(F)c1COc1cnccc1-c1cncc2ccccc12N1CCC(F)(F)CC1\n"
          ]
        },
        {
          "output_type": "stream",
          "name": "stderr",
          "text": [
            "[05:14:51] SMILES Parse Error: unclosed ring for input: 'Cc1ccncc1CNc1cc(C(c2ccn(C)n2)n2cccc(OCc3cnnc3)c2F)c(C)nn'\n",
            "[05:14:51] SMILES Parse Error: unclosed ring for input: 'Fc1ccc(Cc2ncnc3c4oc(cc4nc(N)c23)C(=O)NC(CC23C6CC42)cc1)C'\n",
            "[05:14:51] SMILES Parse Error: extra open parentheses while parsing: Cc1cc2cccc(NCC3(O)CCC3)n2c(O)c1CC12CC3CC(C1)C(OCCn1c1nc\n",
            "[05:14:51] SMILES Parse Error: check for mistakes around position 46:\n",
            "[05:14:51] c(O)c1CC12CC3CC(C1)C(OCCn1c1nc\n",
            "[05:14:51] ~~~~~~~~~~~~~~~~~~~~^\n",
            "[05:14:51] SMILES Parse Error: Failed parsing SMILES 'Cc1cc2cccc(NCC3(O)CCC3)n2c(O)c1CC12CC3CC(C1)C(OCCn1c1nc' for input: 'Cc1cc2cccc(NCC3(O)CCC3)n2c(O)c1CC12CC3CC(C1)C(OCCn1c1nc'\n"
          ]
        },
        {
          "output_type": "stream",
          "name": "stdout",
          "text": [
            "Sample 48 of 150: [INVALID] Cc1ccncc1CNc1cc(C(c2ccn(C)n2)n2cccc(OCc3cnnc3)c2F)c(C)nn\n",
            "Sample 49 of 150: [INVALID] Fc1ccc(Cc2ncnc3c4oc(cc4nc(N)c23)C(=O)NC(CC23C6CC42)cc1)C\n",
            "Sample 50 of 150: [INVALID] Cc1cc2cccc(NCC3(O)CCC3)n2c(O)c1CC12CC3CC(C1)C(OCCn1c1nc\n"
          ]
        },
        {
          "output_type": "stream",
          "name": "stderr",
          "text": [
            "[05:14:52] SMILES Parse Error: unclosed ring for input: 'CNC1=N\\C(=C/c2cnc3n(C)c(=O)n(C)c3c2)S(=O)(=O)N1c1ccc(F)'\n",
            "[05:14:52] SMILES Parse Error: extra open parentheses while parsing: CC1C2CCc3c(F)cc(cc23)C(=O)N(C)C1C(O)=Oc1nc(Oc2ccc(cc2)C\n",
            "[05:14:52] SMILES Parse Error: check for mistakes around position 43:\n",
            "[05:14:52] (=O)N(C)C1C(O)=Oc1nc(Oc2ccc(cc2)C\n",
            "[05:14:52] ~~~~~~~~~~~~~~~~~~~~^\n",
            "[05:14:52] SMILES Parse Error: Failed parsing SMILES 'CC1C2CCc3c(F)cc(cc23)C(=O)N(C)C1C(O)=Oc1nc(Oc2ccc(cc2)C' for input: 'CC1C2CCc3c(F)cc(cc23)C(=O)N(C)C1C(O)=Oc1nc(Oc2ccc(cc2)C'\n",
            "[05:14:52] Explicit valence for atom # 30 F, 2, is greater than permitted\n"
          ]
        },
        {
          "output_type": "stream",
          "name": "stdout",
          "text": [
            "Sample 51 of 150: [INVALID] CNC1=N\\C(=C/c2cnc3n(C)c(=O)n(C)c3c2)S(=O)(=O)N1c1ccc(F)\n",
            "Sample 52 of 150: [INVALID] CC1C2CCc3c(F)cc(cc23)C(=O)N(C)C1C(O)=Oc1nc(Oc2ccc(cc2)C\n",
            "Sample 53 of 150: [INVALID] C(\\c1cccnn1)c1cc2CCOCCCCc2cn1c1ccccc1NCCCFC#NCC1OC1c\n"
          ]
        },
        {
          "output_type": "stream",
          "name": "stderr",
          "text": [
            "[05:14:52] SMILES Parse Error: extra open parentheses while parsing: BB12OC(C1O)n1cnc3c(NS(=O)(=O)c4ccncc4C)nc(-c4cncc5cccnc4\n",
            "[05:14:52] SMILES Parse Error: check for mistakes around position 42:\n",
            "[05:14:52] (=O)(=O)c4ccncc4C)nc(-c4cncc5cccnc4\n",
            "[05:14:52] ~~~~~~~~~~~~~~~~~~~~^\n",
            "[05:14:52] SMILES Parse Error: Failed parsing SMILES 'BB12OC(C1O)n1cnc3c(NS(=O)(=O)c4ccncc4C)nc(-c4cncc5cccnc4' for input: 'BB12OC(C1O)n1cnc3c(NS(=O)(=O)c4ccncc4C)nc(-c4cncc5cccnc4'\n",
            "[05:14:52] SMILES Parse Error: extra open parentheses while parsing: COc1c(B)c2ccccc2c(CCCCC(=O)NC(c2c(N=C2C(Cc2ccc(O)cc2)-c2\n",
            "[05:14:52] SMILES Parse Error: check for mistakes around position 18:\n",
            "[05:14:52] COc1c(B)c2ccccc2c(CCCCC(=O)NC(c2c(N=C2C(C\n",
            "[05:14:52] ~~~~~~~~~~~~~~~~~^\n",
            "[05:14:52] SMILES Parse Error: extra open parentheses while parsing: COc1c(B)c2ccccc2c(CCCCC(=O)NC(c2c(N=C2C(Cc2ccc(O)cc2)-c2\n",
            "[05:14:52] SMILES Parse Error: check for mistakes around position 30:\n",
            "[05:14:52] 2ccccc2c(CCCCC(=O)NC(c2c(N=C2C(Cc2ccc(O)c\n",
            "[05:14:52] ~~~~~~~~~~~~~~~~~~~~^\n",
            "[05:14:52] SMILES Parse Error: extra open parentheses while parsing: COc1c(B)c2ccccc2c(CCCCC(=O)NC(c2c(N=C2C(Cc2ccc(O)cc2)-c2\n",
            "[05:14:52] SMILES Parse Error: check for mistakes around position 34:\n",
            "[05:14:52] cc2c(CCCCC(=O)NC(c2c(N=C2C(Cc2ccc(O)cc2)-\n",
            "[05:14:52] ~~~~~~~~~~~~~~~~~~~~^\n",
            "[05:14:52] SMILES Parse Error: Failed parsing SMILES 'COc1c(B)c2ccccc2c(CCCCC(=O)NC(c2c(N=C2C(Cc2ccc(O)cc2)-c2' for input: 'COc1c(B)c2ccccc2c(CCCCC(=O)NC(c2c(N=C2C(Cc2ccc(O)cc2)-c2'\n",
            "[05:14:52] Explicit valence for atom # 28 N, 4, is greater than permitted\n"
          ]
        },
        {
          "output_type": "stream",
          "name": "stdout",
          "text": [
            "Sample 54 of 150: [INVALID] BB12OC(C1O)n1cnc3c(NS(=O)(=O)c4ccncc4C)nc(-c4cncc5cccnc4\n",
            "Sample 55 of 150: [INVALID] COc1c(B)c2ccccc2c(CCCCC(=O)NC(c2c(N=C2C(Cc2ccc(O)cc2)-c2\n",
            "Sample 56 of 150: [INVALID] C1CCc2ccccc2CC1N1CCN(CC(F)F)SC1c1ccccc1C#NC(=O)c1cscn1\n"
          ]
        },
        {
          "output_type": "stream",
          "name": "stderr",
          "text": [
            "[05:14:52] SMILES Parse Error: syntax error while parsing: CC(c1cc2cc(F)ccc2o1)n1cncn1N(CCCOc1cnnc(=O)c1N(O-)=OC(\n",
            "[05:14:52] SMILES Parse Error: check for mistakes around position 50:\n",
            "[05:14:52] CCCOc1cnnc(=O)c1N(O-)=OC(\n",
            "[05:14:52] ~~~~~~~~~~~~~~~~~~~~^\n",
            "[05:14:52] SMILES Parse Error: extra open parentheses while parsing: CC(c1cc2cc(F)ccc2o1)n1cncn1N(CCCOc1cnnc(=O)c1N(O-)=OC(\n",
            "[05:14:52] SMILES Parse Error: check for mistakes around position 29:\n",
            "[05:14:52] cc(F)ccc2o1)n1cncn1N(CCCOc1cnnc(=O)c1N(O-\n",
            "[05:14:52] ~~~~~~~~~~~~~~~~~~~~^\n",
            "[05:14:52] SMILES Parse Error: extra open parentheses while parsing: CC(c1cc2cc(F)ccc2o1)n1cncn1N(CCCOc1cnnc(=O)c1N(O-)=OC(\n",
            "[05:14:52] SMILES Parse Error: check for mistakes around position 47:\n",
            "[05:14:52] 1N(CCCOc1cnnc(=O)c1N(O-)=OC(\n",
            "[05:14:52] ~~~~~~~~~~~~~~~~~~~~^\n",
            "[05:14:52] SMILES Parse Error: Failed parsing SMILES 'CC(c1cc2cc(F)ccc2o1)n1cncn1N(CCCOc1cnnc(=O)c1N(O-)=OC(' for input: 'CC(c1cc2cc(F)ccc2o1)n1cncn1N(CCCOc1cnnc(=O)c1N(O-)=OC('\n",
            "[05:14:52] SMILES Parse Error: syntax error while parsing: Cc1c(F)ccc(C)c1-c1cc(ccn1)C(=O)NC(CC)(CCF)CC(O)=OC=CC1=\n",
            "[05:14:52] SMILES Parse Error: check for mistakes around position 55:\n",
            "[05:14:52] CC)(CCF)CC(O)=OC=CC1=\n",
            "[05:14:52] ~~~~~~~~~~~~~~~~~~~~^\n",
            "[05:14:52] SMILES Parse Error: Failed parsing SMILES 'Cc1c(F)ccc(C)c1-c1cc(ccn1)C(=O)NC(CC)(CCF)CC(O)=OC=CC1=' for input: 'Cc1c(F)ccc(C)c1-c1cc(ccn1)C(=O)NC(CC)(CCF)CC(O)=OC=CC1='\n",
            "[05:14:52] Explicit valence for atom # 12 N, 4, is greater than permitted\n"
          ]
        },
        {
          "output_type": "stream",
          "name": "stdout",
          "text": [
            "Sample 57 of 150: [INVALID] CC(c1cc2cc(F)ccc2o1)n1cncn1N(CCCOc1cnnc(=O)c1N(O-)=OC(\n",
            "Sample 58 of 150: [INVALID] Cc1c(F)ccc(C)c1-c1cc(ccn1)C(=O)NC(CC)(CCF)CC(O)=OC=CC1=\n",
            "Sample 59 of 150: [INVALID] CN1C2CCC1CC(C#N)C2C#Nc1cncnc1-c1ccc(F)cc1N(C)\\N=C(/C)C\n"
          ]
        },
        {
          "output_type": "stream",
          "name": "stderr",
          "text": [
            "[05:14:52] SMILES Parse Error: extra open parentheses while parsing: C#CC1COCCC1Oc1ccccc1CC1(COc2cc(cnc2N)-c2onc(-c3ccc(O)cc\n",
            "[05:14:52] SMILES Parse Error: check for mistakes around position 24:\n",
            "[05:14:52] C1COCCC1Oc1ccccc1CC1(COc2cc(cnc2N)-c2onc(\n",
            "[05:14:52] ~~~~~~~~~~~~~~~~~~~~^\n",
            "[05:14:52] SMILES Parse Error: extra open parentheses while parsing: C#CC1COCCC1Oc1ccccc1CC1(COc2cc(cnc2N)-c2onc(-c3ccc(O)cc\n",
            "[05:14:52] SMILES Parse Error: check for mistakes around position 44:\n",
            "[05:14:52] (COc2cc(cnc2N)-c2onc(-c3ccc(O)cc\n",
            "[05:14:52] ~~~~~~~~~~~~~~~~~~~~^\n",
            "[05:14:52] SMILES Parse Error: Failed parsing SMILES 'C#CC1COCCC1Oc1ccccc1CC1(COc2cc(cnc2N)-c2onc(-c3ccc(O)cc' for input: 'C#CC1COCCC1Oc1ccccc1CC1(COc2cc(cnc2N)-c2onc(-c3ccc(O)cc'\n",
            "[05:14:52] SMILES Parse Error: extra open parentheses while parsing: COc1ccc2oc(SCC(C)(C)OC3CCC(C3)c3cncnc3)cn2c1CC(C)CC(=O\n",
            "[05:14:52] SMILES Parse Error: check for mistakes around position 52:\n",
            "[05:14:52] 3cncnc3)cn2c1CC(C)CC(=O\n",
            "[05:14:52] ~~~~~~~~~~~~~~~~~~~~^\n",
            "[05:14:52] SMILES Parse Error: Failed parsing SMILES 'COc1ccc2oc(SCC(C)(C)OC3CCC(C3)c3cncnc3)cn2c1CC(C)CC(=O' for input: 'COc1ccc2oc(SCC(C)(C)OC3CCC(C3)c3cncnc3)cn2c1CC(C)CC(=O'\n",
            "[05:14:52] SMILES Parse Error: unclosed ring for input: 'CO\\N=C(/NC)\\C=C\\c1cnc2ccccc12N1N=CCO1C1=c2cccn2CC1c1'\n"
          ]
        },
        {
          "output_type": "stream",
          "name": "stdout",
          "text": [
            "Sample 60 of 150: [INVALID] C#CC1COCCC1Oc1ccccc1CC1(COc2cc(cnc2N)-c2onc(-c3ccc(O)cc\n",
            "Sample 61 of 150: [INVALID] COc1ccc2oc(SCC(C)(C)OC3CCC(C3)c3cncnc3)cn2c1CC(C)CC(=O\n",
            "Sample 62 of 150: [INVALID] CO\\N=C(/NC)\\C=C\\c1cnc2ccccc12N1N=CCO1C1=c2cccn2CC1c1\n"
          ]
        },
        {
          "output_type": "stream",
          "name": "stderr",
          "text": [
            "[05:14:52] SMILES Parse Error: syntax error while parsing: C1(Cn2ccnc2)c2ncc(cc2C1CCN1CCCC1)N(O-)C(=C\\c1ccccc1)C(=O\n",
            "[05:14:52] SMILES Parse Error: check for mistakes around position 38:\n",
            "[05:14:52] (cc2C1CCN1CCCC1)N(O-)C(=C\\c1ccccc1)C(=O\n",
            "[05:14:52] ~~~~~~~~~~~~~~~~~~~~^\n",
            "[05:14:52] SMILES Parse Error: extra open parentheses while parsing: C1(Cn2ccnc2)c2ncc(cc2C1CCN1CCCC1)N(O-)C(=C\\c1ccccc1)C(=O\n",
            "[05:14:52] SMILES Parse Error: check for mistakes around position 35:\n",
            "[05:14:52] ncc(cc2C1CCN1CCCC1)N(O-)C(=C\\c1ccccc1)C(=\n",
            "[05:14:52] ~~~~~~~~~~~~~~~~~~~~^\n",
            "[05:14:52] SMILES Parse Error: Failed parsing SMILES 'C1(Cn2ccnc2)c2ncc(cc2C1CCN1CCCC1)N(O-)C(=C\\c1ccccc1)C(=O' for input: 'C1(Cn2ccnc2)c2ncc(cc2C1CCN1CCCC1)N(O-)C(=C\\c1ccccc1)C(=O'\n",
            "[05:14:53] SMILES Parse Error: syntax error while parsing: S=c1nccnc1-c1ccccc1N1CCc2ccnc(Nc3cccc(F)c3)c2C1=OC(O)=\n",
            "[05:14:53] SMILES Parse Error: check for mistakes around position 54:\n",
            "[05:14:53] cccc(F)c3)c2C1=OC(O)=\n",
            "[05:14:53] ~~~~~~~~~~~~~~~~~~~~^\n",
            "[05:14:53] SMILES Parse Error: Failed parsing SMILES 'S=c1nccnc1-c1ccccc1N1CCc2ccnc(Nc3cccc(F)c3)c2C1=OC(O)=' for input: 'S=c1nccnc1-c1ccccc1N1CCc2ccnc(Nc3cccc(F)c3)c2C1=OC(O)='\n"
          ]
        },
        {
          "output_type": "stream",
          "name": "stdout",
          "text": [
            "Sample 63 of 150: [INVALID] C1(Cn2ccnc2)c2ncc(cc2C1CCN1CCCC1)N(O-)C(=C\\c1ccccc1)C(=O\n",
            "Sample 64 of 150: [INVALID] S=c1nccnc1-c1ccccc1N1CCc2ccnc(Nc3cccc(F)c3)c2C1=OC(O)=\n",
            "Sample 65 of 150: [VALID] O=C1\\C(\\C=C\\CC=C)C(=O)CC11CCN(Cc2ccc(F)cc2)CC1c1ccccc1\n"
          ]
        },
        {
          "output_type": "stream",
          "name": "stderr",
          "text": [
            "[05:14:53] SMILES Parse Error: extra open parentheses while parsing: CC(O)(C(=O)NCc1cccnc1)c1ccccc1C1=Nc2ccncc2CC(N(Cc2cccnc\n",
            "[05:14:53] SMILES Parse Error: check for mistakes around position 45:\n",
            "[05:14:53] ccccc1C1=Nc2ccncc2CC(N(Cc2cccnc\n",
            "[05:14:53] ~~~~~~~~~~~~~~~~~~~~^\n",
            "[05:14:53] SMILES Parse Error: extra open parentheses while parsing: CC(O)(C(=O)NCc1cccnc1)c1ccccc1C1=Nc2ccncc2CC(N(Cc2cccnc\n",
            "[05:14:53] SMILES Parse Error: check for mistakes around position 47:\n",
            "[05:14:53] ccc1C1=Nc2ccncc2CC(N(Cc2cccnc\n",
            "[05:14:53] ~~~~~~~~~~~~~~~~~~~~^\n",
            "[05:14:53] SMILES Parse Error: Failed parsing SMILES 'CC(O)(C(=O)NCc1cccnc1)c1ccccc1C1=Nc2ccncc2CC(N(Cc2cccnc' for input: 'CC(O)(C(=O)NCc1cccnc1)c1ccccc1C1=Nc2ccncc2CC(N(Cc2cccnc'\n",
            "[05:14:53] SMILES Parse Error: unclosed ring for input: 'Bc1cccc(COc2c(F)cc(\\C=C3/SC(=O)NC3=O)cc2)c1CCc1cncn1CC1'\n",
            "[05:14:53] SMILES Parse Error: extra open parentheses while parsing: COc1cc(\\C=C\\C(=O)CC2CCCC(C2)n2cnnc2)cc(c1)C(O)=ON(Cc1cc\n",
            "[05:14:53] SMILES Parse Error: check for mistakes around position 50:\n",
            "[05:14:53] 2cnnc2)cc(c1)C(O)=ON(Cc1cc\n",
            "[05:14:53] ~~~~~~~~~~~~~~~~~~~~^\n",
            "[05:14:53] SMILES Parse Error: Failed parsing SMILES 'COc1cc(\\C=C\\C(=O)CC2CCCC(C2)n2cnnc2)cc(c1)C(O)=ON(Cc1cc' for input: 'COc1cc(\\C=C\\C(=O)CC2CCCC(C2)n2cnnc2)cc(c1)C(O)=ON(Cc1cc'\n"
          ]
        },
        {
          "output_type": "stream",
          "name": "stdout",
          "text": [
            "Sample 66 of 150: [INVALID] CC(O)(C(=O)NCc1cccnc1)c1ccccc1C1=Nc2ccncc2CC(N(Cc2cccnc\n",
            "Sample 67 of 150: [INVALID] Bc1cccc(COc2c(F)cc(\\C=C3/SC(=O)NC3=O)cc2)c1CCc1cncn1CC1\n",
            "Sample 68 of 150: [INVALID] COc1cc(\\C=C\\C(=O)CC2CCCC(C2)n2cnnc2)cc(c1)C(O)=ON(Cc1cc\n"
          ]
        },
        {
          "output_type": "stream",
          "name": "stderr",
          "text": [
            "[05:14:53] SMILES Parse Error: extra close parentheses while parsing: C12Nc3ccccc3C(=O)N1c1cnn(CC#C)c1-c1ccccc1)c1ncc(cn1)N(C)\n",
            "[05:14:53] SMILES Parse Error: check for mistakes around position 42:\n",
            "[05:14:53] cnn(CC#C)c1-c1ccccc1)c1ncc(cn1)N(C)\n",
            "[05:14:53] ~~~~~~~~~~~~~~~~~~~~^\n",
            "[05:14:53] SMILES Parse Error: Failed parsing SMILES 'C12Nc3ccccc3C(=O)N1c1cnn(CC#C)c1-c1ccccc1)c1ncc(cn1)N(C)' for input: 'C12Nc3ccccc3C(=O)N1c1cnn(CC#C)c1-c1ccccc1)c1ncc(cn1)N(C)'\n",
            "[05:14:53] SMILES Parse Error: extra open parentheses while parsing: Cc1nc(sc1CSc1ccc(OC(F)(F)F)cc1C)C(C)(C)c1nnnn1C(CCO)C(N\n",
            "[05:14:53] SMILES Parse Error: check for mistakes around position 54:\n",
            "[05:14:53] (C)(C)c1nnnn1C(CCO)C(N\n",
            "[05:14:53] ~~~~~~~~~~~~~~~~~~~~^\n",
            "[05:14:53] SMILES Parse Error: Failed parsing SMILES 'Cc1nc(sc1CSc1ccc(OC(F)(F)F)cc1C)C(C)(C)c1nnnn1C(CCO)C(N' for input: 'Cc1nc(sc1CSc1ccc(OC(F)(F)F)cc1C)C(C)(C)c1nnnn1C(CCO)C(N'\n",
            "[05:14:53] SMILES Parse Error: syntax error while parsing: CC(C)c1ncnc(C(O)c2cc(O)cc(O)c2)c1C(C)=OOC(=O)C1CN(C1)C(\n",
            "[05:14:53] SMILES Parse Error: check for mistakes around position 55:\n",
            "[05:14:53] (C)=OOC(=O)C1CN(C1)C(\n",
            "[05:14:53] ~~~~~~~~~~~~~~~~~~~~^\n",
            "[05:14:53] SMILES Parse Error: Failed parsing SMILES 'CC(C)c1ncnc(C(O)c2cc(O)cc(O)c2)c1C(C)=OOC(=O)C1CN(C1)C(' for input: 'CC(C)c1ncnc(C(O)c2cc(O)cc(O)c2)c1C(C)=OOC(=O)C1CN(C1)C('\n"
          ]
        },
        {
          "output_type": "stream",
          "name": "stdout",
          "text": [
            "Sample 69 of 150: [INVALID] C12Nc3ccccc3C(=O)N1c1cnn(CC#C)c1-c1ccccc1)c1ncc(cn1)N(C)\n",
            "Sample 70 of 150: [INVALID] Cc1nc(sc1CSc1ccc(OC(F)(F)F)cc1C)C(C)(C)c1nnnn1C(CCO)C(N\n",
            "Sample 71 of 150: [INVALID] CC(C)c1ncnc(C(O)c2cc(O)cc(O)c2)c1C(C)=OOC(=O)C1CN(C1)C(\n"
          ]
        },
        {
          "output_type": "stream",
          "name": "stderr",
          "text": [
            "[05:14:53] SMILES Parse Error: extra close parentheses while parsing: S=c1ncnc2sc3CN(CCc3c12)C(c1ccccc1)c1ccccc1)c1ccncc1N1CS\n",
            "[05:14:53] SMILES Parse Error: check for mistakes around position 43:\n",
            "[05:14:53] )C(c1ccccc1)c1ccccc1)c1ccncc1N1CS\n",
            "[05:14:53] ~~~~~~~~~~~~~~~~~~~~^\n",
            "[05:14:53] SMILES Parse Error: Failed parsing SMILES 'S=c1ncnc2sc3CN(CCc3c12)C(c1ccccc1)c1ccccc1)c1ccncc1N1CS' for input: 'S=c1ncnc2sc3CN(CCc3c12)C(c1ccccc1)c1ccccc1)c1ccncc1N1CS'\n",
            "[05:14:53] SMILES Parse Error: unclosed ring for input: 'CN1C(=O)COc2cc(N)c(N)cc(O)c12C1(CCC(C)(C)CC1)\\C=C\\Cc1cc'\n",
            "[05:14:53] SMILES Parse Error: extra open parentheses while parsing: CC(O)C1NC(=O)c2ncccc2C(OCc2cnccn2)\\C1=C/c1cccc(OCc2ccccc\n",
            "[05:14:53] SMILES Parse Error: check for mistakes around position 47:\n",
            "[05:14:53] 2cnccn2)\\C1=C/c1cccc(OCc2ccccc\n",
            "[05:14:53] ~~~~~~~~~~~~~~~~~~~~^\n",
            "[05:14:53] SMILES Parse Error: Failed parsing SMILES 'CC(O)C1NC(=O)c2ncccc2C(OCc2cnccn2)\\C1=C/c1cccc(OCc2ccccc' for input: 'CC(O)C1NC(=O)c2ncccc2C(OCc2cnccn2)\\C1=C/c1cccc(OCc2ccccc'\n"
          ]
        },
        {
          "output_type": "stream",
          "name": "stdout",
          "text": [
            "Sample 72 of 150: [INVALID] S=c1ncnc2sc3CN(CCc3c12)C(c1ccccc1)c1ccccc1)c1ccncc1N1CS\n",
            "Sample 73 of 150: [INVALID] CN1C(=O)COc2cc(N)c(N)cc(O)c12C1(CCC(C)(C)CC1)\\C=C\\Cc1cc\n",
            "Sample 74 of 150: [INVALID] CC(O)C1NC(=O)c2ncccc2C(OCc2cnccn2)\\C1=C/c1cccc(OCc2ccccc\n"
          ]
        },
        {
          "output_type": "stream",
          "name": "stderr",
          "text": [
            "[05:14:53] SMILES Parse Error: syntax error while parsing: S=C(O)c1ccc2nc3cncnc3c2n1N1CCCC1C(=O)c1ccccc1FN(O-)=O\n",
            "[05:14:53] SMILES Parse Error: check for mistakes around position 51:\n",
            "[05:14:53] C1C(=O)c1ccccc1FN(O-)=O\n",
            "[05:14:53] ~~~~~~~~~~~~~~~~~~~~^\n",
            "[05:14:53] SMILES Parse Error: extra open parentheses while parsing: S=C(O)c1ccc2nc3cncnc3c2n1N1CCCC1C(=O)c1ccccc1FN(O-)=O\n",
            "[05:14:53] SMILES Parse Error: check for mistakes around position 48:\n",
            "[05:14:53] CCCC1C(=O)c1ccccc1FN(O-)=O\n",
            "[05:14:53] ~~~~~~~~~~~~~~~~~~~~^\n",
            "[05:14:53] SMILES Parse Error: Failed parsing SMILES 'S=C(O)c1ccc2nc3cncnc3c2n1N1CCCC1C(=O)c1ccccc1FN(O-)=O' for input: 'S=C(O)c1ccc2nc3cncnc3c2n1N1CCCC1C(=O)c1ccccc1FN(O-)=O'\n",
            "[05:14:53] SMILES Parse Error: unclosed ring for input: 'CN1CCCC(C)C1c1nnc(c1COc1ccc(C)cc1C)C1COC(=O)N1c1ccc(OC)c'\n",
            "[05:14:53] SMILES Parse Error: extra open parentheses while parsing: FC(F)(F)C(\\Sc1nc(N)cc(O)c1=O)-c1cc(-c2ncon2)c(CCCOc2cccc\n",
            "[05:14:53] SMILES Parse Error: check for mistakes around position 46:\n",
            "[05:14:53] 1=O)-c1cc(-c2ncon2)c(CCCOc2cccc\n",
            "[05:14:53] ~~~~~~~~~~~~~~~~~~~~^\n",
            "[05:14:53] SMILES Parse Error: Failed parsing SMILES 'FC(F)(F)C(\\Sc1nc(N)cc(O)c1=O)-c1cc(-c2ncon2)c(CCCOc2cccc' for input: 'FC(F)(F)C(\\Sc1nc(N)cc(O)c1=O)-c1cc(-c2ncon2)c(CCCOc2cccc'\n"
          ]
        },
        {
          "output_type": "stream",
          "name": "stdout",
          "text": [
            "Sample 75 of 150: [INVALID] S=C(O)c1ccc2nc3cncnc3c2n1N1CCCC1C(=O)c1ccccc1FN(O-)=O\n",
            "Sample 76 of 150: [INVALID] CN1CCCC(C)C1c1nnc(c1COc1ccc(C)cc1C)C1COC(=O)N1c1ccc(OC)c\n",
            "Sample 77 of 150: [INVALID] FC(F)(F)C(\\Sc1nc(N)cc(O)c1=O)-c1cc(-c2ncon2)c(CCCOc2cccc\n"
          ]
        },
        {
          "output_type": "stream",
          "name": "stderr",
          "text": [
            "[05:14:54] Explicit valence for atom # 30 N, 5, is greater than permitted\n",
            "[05:14:54] SMILES Parse Error: unclosed ring for input: 'B\\C(/C=C\\CC1C2SC(O)=C(C(=CS2Cc2cncn2)C(F)(F)F)C1=O)c1ccc'\n",
            "[05:14:54] SMILES Parse Error: unclosed ring for input: 'Oc1ccc(cc1)-c1ccc(-c2ccco2)c(n1)C#NN(Cc1cccnc1)Cc1ccc2O'\n"
          ]
        },
        {
          "output_type": "stream",
          "name": "stdout",
          "text": [
            "Sample 78 of 150: [INVALID] C(\\c1ccc2OCCc2c1)n1ccnc1C1(O)c2cccc3occ(c23)-c2cncn12C\n",
            "Sample 79 of 150: [INVALID] B\\C(/C=C\\CC1C2SC(O)=C(C(=CS2Cc2cncn2)C(F)(F)F)C1=O)c1ccc\n",
            "Sample 80 of 150: [INVALID] Oc1ccc(cc1)-c1ccc(-c2ccco2)c(n1)C#NN(Cc1cccnc1)Cc1ccc2O\n"
          ]
        },
        {
          "output_type": "stream",
          "name": "stderr",
          "text": [
            "[05:14:54] SMILES Parse Error: syntax error while parsing: Nc1ccn(C)c(=O)c1-c1cnnn1N1Cc2cccc(C=O)c2CC1c1ccc(cc1)N(\n",
            "[05:14:54] SMILES Parse Error: check for mistakes around position 55:\n",
            "[05:14:54] C=O)c2CC1c1ccc(cc1)N(\n",
            "[05:14:54] ~~~~~~~~~~~~~~~~~~~~^\n",
            "[05:14:54] SMILES Parse Error: Failed parsing SMILES 'Nc1ccn(C)c(=O)c1-c1cnnn1N1Cc2cccc(C=O)c2CC1c1ccc(cc1)N(' for input: 'Nc1ccn(C)c(=O)c1-c1cnnn1N1Cc2cccc(C=O)c2CC1c1ccc(cc1)N('\n",
            "[05:14:54] Explicit valence for atom # 20 O, 3, is greater than permitted\n",
            "[05:14:54] SMILES Parse Error: extra open parentheses while parsing: Nc1nc2c3CN(Cc4nnc(s4)C(F)(F)F)CCn3cncc2-n2cnnc12C12CC(F\n",
            "[05:14:54] SMILES Parse Error: check for mistakes around position 54:\n",
            "[05:14:54] 3cncc2-n2cnnc12C12CC(F\n",
            "[05:14:54] ~~~~~~~~~~~~~~~~~~~~^\n",
            "[05:14:54] SMILES Parse Error: Failed parsing SMILES 'Nc1nc2c3CN(Cc4nnc(s4)C(F)(F)F)CCn3cncc2-n2cnnc12C12CC(F' for input: 'Nc1nc2c3CN(Cc4nnc(s4)C(F)(F)F)CCn3cncc2-n2cnnc12C12CC(F'\n"
          ]
        },
        {
          "output_type": "stream",
          "name": "stdout",
          "text": [
            "Sample 81 of 150: [INVALID] Nc1ccn(C)c(=O)c1-c1cnnn1N1Cc2cccc(C=O)c2CC1c1ccc(cc1)N(\n",
            "Sample 82 of 150: [INVALID] CC#Cc1c(C)ncc1-c1ccc2c(c1)C(C)(C)C(N)=OOC2c1ccccc1N(C)\n",
            "Sample 83 of 150: [INVALID] Nc1nc2c3CN(Cc4nnc(s4)C(F)(F)F)CCn3cncc2-n2cnnc12C12CC(F\n"
          ]
        },
        {
          "output_type": "stream",
          "name": "stderr",
          "text": [
            "[05:14:54] SMILES Parse Error: unclosed ring for input: 'C1(CCCCC1N(C)c1ncnc2n(ccc12)C#N)c1cccc(C)c1C#NC(=O)c1cc'\n",
            "[05:14:54] SMILES Parse Error: extra open parentheses while parsing: COc1cc(Cn2ccnc2)cc(c1)-c1cccn1N(C)c1ccncc1C(=C\\CC=C(C)\n",
            "[05:14:54] SMILES Parse Error: check for mistakes around position 44:\n",
            "[05:14:54] c1cccn1N(C)c1ccncc1C(=C\\CC=C(C)\n",
            "[05:14:54] ~~~~~~~~~~~~~~~~~~~~^\n",
            "[05:14:54] SMILES Parse Error: Failed parsing SMILES 'COc1cc(Cn2ccnc2)cc(c1)-c1cccn1N(C)c1ccncc1C(=C\\CC=C(C)' for input: 'COc1cc(Cn2ccnc2)cc(c1)-c1cccn1N(C)c1ccncc1C(=C\\CC=C(C)'\n",
            "[05:14:54] SMILES Parse Error: unclosed ring for input: 'COc1c(B)cnc(CNc2c(B)cc3NC(=O)\\C(C)=C\\P(O)(O)=O)cc1c23c1'\n"
          ]
        },
        {
          "output_type": "stream",
          "name": "stdout",
          "text": [
            "Sample 84 of 150: [INVALID] C1(CCCCC1N(C)c1ncnc2n(ccc12)C#N)c1cccc(C)c1C#NC(=O)c1cc\n",
            "Sample 85 of 150: [INVALID] COc1cc(Cn2ccnc2)cc(c1)-c1cccn1N(C)c1ccncc1C(=C\\CC=C(C)\n",
            "Sample 86 of 150: [INVALID] COc1c(B)cnc(CNc2c(B)cc3NC(=O)\\C(C)=C\\P(O)(O)=O)cc1c23c1\n"
          ]
        },
        {
          "output_type": "stream",
          "name": "stderr",
          "text": [
            "[05:14:54] SMILES Parse Error: unclosed ring for input: 'B=c1n(Cc2c(F)cccc2C#N)cnn1-c1ccc2scnc2c1N1CCNCC1Cc1ccc'\n",
            "[05:14:54] SMILES Parse Error: syntax error while parsing: COc1ccc(COc2ccc3-c4cccnc4C(C(N)=O)n3)c2cc1C(C)C(O)=OC(\n",
            "[05:14:54] SMILES Parse Error: check for mistakes around position 54:\n",
            "[05:14:54] )n3)c2cc1C(C)C(O)=OC(\n",
            "[05:14:54] ~~~~~~~~~~~~~~~~~~~~^\n",
            "[05:14:54] SMILES Parse Error: Failed parsing SMILES 'COc1ccc(COc2ccc3-c4cccnc4C(C(N)=O)n3)c2cc1C(C)C(O)=OC(' for input: 'COc1ccc(COc2ccc3-c4cccnc4C(C(N)=O)n3)c2cc1C(C)C(O)=OC('\n"
          ]
        },
        {
          "output_type": "stream",
          "name": "stdout",
          "text": [
            "Sample 87 of 150: [INVALID] B=c1n(Cc2c(F)cccc2C#N)cnn1-c1ccc2scnc2c1N1CCNCC1Cc1ccc\n",
            "Sample 88 of 150: [VALID] CC(C)c1cc(F)c(Cn2nnc(Cc3ccncn3)c2Oc2cccc(c2)C(F)(F)F)cc1\n",
            "Sample 89 of 150: [INVALID] COc1ccc(COc2ccc3-c4cccnc4C(C(N)=O)n3)c2cc1C(C)C(O)=OC(\n"
          ]
        },
        {
          "output_type": "stream",
          "name": "stderr",
          "text": [
            "[05:14:54] SMILES Parse Error: extra open parentheses while parsing: Cc1cncn1CCC1COc2cccc(C(C)=O)c2C1=ON1Cc2c(cc(NS(C)(=O)=O\n",
            "[05:14:54] SMILES Parse Error: check for mistakes around position 41:\n",
            "[05:14:54] (C(C)=O)c2C1=ON1Cc2c(cc(NS(C)(=O)=O\n",
            "[05:14:54] ~~~~~~~~~~~~~~~~~~~~^\n",
            "[05:14:54] SMILES Parse Error: extra open parentheses while parsing: Cc1cncn1CCC1COc2cccc(C(C)=O)c2C1=ON1Cc2c(cc(NS(C)(=O)=O\n",
            "[05:14:54] SMILES Parse Error: check for mistakes around position 44:\n",
            "[05:14:54] C)=O)c2C1=ON1Cc2c(cc(NS(C)(=O)=O\n",
            "[05:14:54] ~~~~~~~~~~~~~~~~~~~~^\n",
            "[05:14:54] SMILES Parse Error: Failed parsing SMILES 'Cc1cncn1CCC1COc2cccc(C(C)=O)c2C1=ON1Cc2c(cc(NS(C)(=O)=O' for input: 'Cc1cncn1CCC1COc2cccc(C(C)=O)c2C1=ON1Cc2c(cc(NS(C)(=O)=O'\n",
            "[05:14:55] SMILES Parse Error: syntax error while parsing: CC1N2C(c3ccc(C)cc3)c3c(I)cccc3Cc2c(C)c2OC34CCC1CC(O)(CC(\n",
            "[05:14:55] SMILES Parse Error: check for mistakes around position 56:\n",
            "[05:14:55] C)c2OC34CCC1CC(O)(CC(\n",
            "[05:14:55] ~~~~~~~~~~~~~~~~~~~~^\n",
            "[05:14:55] SMILES Parse Error: extra open parentheses while parsing: CC1N2C(c3ccc(C)cc3)c3c(I)cccc3Cc2c(C)c2OC34CCC1CC(O)(CC(\n",
            "[05:14:55] SMILES Parse Error: check for mistakes around position 53:\n",
            "[05:14:55] 2c(C)c2OC34CCC1CC(O)(CC(\n",
            "[05:14:55] ~~~~~~~~~~~~~~~~~~~~^\n",
            "[05:14:55] SMILES Parse Error: Failed parsing SMILES 'CC1N2C(c3ccc(C)cc3)c3c(I)cccc3Cc2c(C)c2OC34CCC1CC(O)(CC(' for input: 'CC1N2C(c3ccc(C)cc3)c3c(I)cccc3Cc2c(C)c2OC34CCC1CC(O)(CC('\n",
            "[05:14:55] Can't kekulize mol.  Unkekulized atoms: 1 2 3 4 25 26 27\n"
          ]
        },
        {
          "output_type": "stream",
          "name": "stdout",
          "text": [
            "Sample 90 of 150: [INVALID] Cc1cncn1CCC1COc2cccc(C(C)=O)c2C1=ON1Cc2c(cc(NS(C)(=O)=O\n",
            "Sample 91 of 150: [INVALID] CC1N2C(c3ccc(C)cc3)c3c(I)cccc3Cc2c(C)c2OC34CCC1CC(O)(CC(\n",
            "Sample 92 of 150: [INVALID] C(c1ccc2OC(C\\Cc3ccccc3)OC\\C=C\\c3ccccc3)cc2c1OCc1cccnc1N\n"
          ]
        },
        {
          "output_type": "stream",
          "name": "stderr",
          "text": [
            "[05:14:55] SMILES Parse Error: unclosed ring for input: 'Fc1cccnc1Oc1ccc(C)c(Cn2ccnc2=O)c1c1ccc2OC\\C(=Cc2c1)c1cc'\n",
            "[05:14:55] SMILES Parse Error: unclosed ring for input: 'CC1=CCCC1NC(=O)C(S)CCc1ccco1NCc1cc(F)ccc1-c1cn(C)c(=O)c'\n",
            "[05:14:55] SMILES Parse Error: extra open parentheses while parsing: Oc1ccc2ccnc(-c3ccncn3)c2c1C1(OC1COC)C1Cc2ccc(OCc3ccncn3\n",
            "[05:14:55] SMILES Parse Error: check for mistakes around position 45:\n",
            "[05:14:55] c1C1(OC1COC)C1Cc2ccc(OCc3ccncn3\n",
            "[05:14:55] ~~~~~~~~~~~~~~~~~~~~^\n",
            "[05:14:55] SMILES Parse Error: Failed parsing SMILES 'Oc1ccc2ccnc(-c3ccncn3)c2c1C1(OC1COC)C1Cc2ccc(OCc3ccncn3' for input: 'Oc1ccc2ccnc(-c3ccncn3)c2c1C1(OC1COC)C1Cc2ccc(OCc3ccncn3'\n"
          ]
        },
        {
          "output_type": "stream",
          "name": "stdout",
          "text": [
            "Sample 93 of 150: [INVALID] Fc1cccnc1Oc1ccc(C)c(Cn2ccnc2=O)c1c1ccc2OC\\C(=Cc2c1)c1cc\n",
            "Sample 94 of 150: [INVALID] CC1=CCCC1NC(=O)C(S)CCc1ccco1NCc1cc(F)ccc1-c1cn(C)c(=O)c\n",
            "Sample 95 of 150: [INVALID] Oc1ccc2ccnc(-c3ccncn3)c2c1C1(OC1COC)C1Cc2ccc(OCc3ccncn3\n"
          ]
        },
        {
          "output_type": "stream",
          "name": "stderr",
          "text": [
            "[05:14:55] SMILES Parse Error: unclosed ring for input: 'COc1ccc-2cc1COc1cc(C)cc(C)c21C145Nc5ccccc7CCN8CCC7(C)Cc'\n",
            "[05:14:55] SMILES Parse Error: syntax error while parsing: B-#N-=Nc1ccc2ccccc2c1N(CCCN1CCCCC1)c1ccncc1C(=O)\\C=C\\\n",
            "[05:14:55] SMILES Parse Error: check for mistakes around position 3:\n",
            "[05:14:55] B-#N-=Nc1ccc2ccccc2c1N(CCCN1CCCCC1)c1ccnc\n",
            "[05:14:55] ~~^\n",
            "[05:14:55] SMILES Parse Error: Failed parsing SMILES 'B-#N-=Nc1ccc2ccccc2c1N(CCCN1CCCCC1)c1ccncc1C(=O)\\C=C\\' for input: 'B-#N-=Nc1ccc2ccccc2c1N(CCCN1CCCCC1)c1ccncc1C(=O)\\C=C\\'\n",
            "[05:14:55] SMILES Parse Error: extra open parentheses while parsing: Cc1cscc1NC(=O)C#Cc1ccc(cc1)C(F)(F)FC1(CC2(CCc3cc(C)cnc2\n",
            "[05:14:55] SMILES Parse Error: check for mistakes around position 38:\n",
            "[05:14:55] c1ccc(cc1)C(F)(F)FC1(CC2(CCc3cc(C)cnc2\n",
            "[05:14:55] ~~~~~~~~~~~~~~~~~~~~^\n",
            "[05:14:55] SMILES Parse Error: extra open parentheses while parsing: Cc1cscc1NC(=O)C#Cc1ccc(cc1)C(F)(F)FC1(CC2(CCc3cc(C)cnc2\n",
            "[05:14:55] SMILES Parse Error: check for mistakes around position 42:\n",
            "[05:14:55] c(cc1)C(F)(F)FC1(CC2(CCc3cc(C)cnc2\n",
            "[05:14:55] ~~~~~~~~~~~~~~~~~~~~^\n",
            "[05:14:55] SMILES Parse Error: Failed parsing SMILES 'Cc1cscc1NC(=O)C#Cc1ccc(cc1)C(F)(F)FC1(CC2(CCc3cc(C)cnc2' for input: 'Cc1cscc1NC(=O)C#Cc1ccc(cc1)C(F)(F)FC1(CC2(CCc3cc(C)cnc2'\n"
          ]
        },
        {
          "output_type": "stream",
          "name": "stdout",
          "text": [
            "Sample 96 of 150: [INVALID] COc1ccc-2cc1COc1cc(C)cc(C)c21C145Nc5ccccc7CCN8CCC7(C)Cc\n",
            "Sample 97 of 150: [INVALID] B-#N-=Nc1ccc2ccccc2c1N(CCCN1CCCCC1)c1ccncc1C(=O)\\C=C\\\n",
            "Sample 98 of 150: [INVALID] Cc1cscc1NC(=O)C#Cc1ccc(cc1)C(F)(F)FC1(CC2(CCc3cc(C)cnc2\n"
          ]
        },
        {
          "output_type": "stream",
          "name": "stderr",
          "text": [
            "[05:14:55] SMILES Parse Error: extra open parentheses while parsing: CC12OC(CC1(O)COc1ccccc1)C(=O)CC21SCc2ccncc12N1CCN(C(C1)\n",
            "[05:14:55] SMILES Parse Error: check for mistakes around position 50:\n",
            "[05:14:55] CC21SCc2ccncc12N1CCN(C(C1)\n",
            "[05:14:55] ~~~~~~~~~~~~~~~~~~~~^\n",
            "[05:14:55] SMILES Parse Error: Failed parsing SMILES 'CC12OC(CC1(O)COc1ccccc1)C(=O)CC21SCc2ccncc12N1CCN(C(C1)' for input: 'CC12OC(CC1(O)COc1ccccc1)C(=O)CC21SCc2ccncc12N1CCN(C(C1)'\n",
            "[05:14:55] SMILES Parse Error: extra open parentheses while parsing: CN1C(=O)C2CCN3CCC(COCCC3)\\C(=C/C=Cc3ccc(\\C=C\\C(=O)N13)C2\n",
            "[05:14:55] SMILES Parse Error: check for mistakes around position 28:\n",
            "[05:14:55] )C2CCN3CCC(COCCC3)\\C(=C/C=Cc3ccc(\\C=C\\C(=\n",
            "[05:14:55] ~~~~~~~~~~~~~~~~~~~~^\n",
            "[05:14:55] SMILES Parse Error: Failed parsing SMILES 'CN1C(=O)C2CCN3CCC(COCCC3)\\C(=C/C=Cc3ccc(\\C=C\\C(=O)N13)C2' for input: 'CN1C(=O)C2CCN3CCC(COCCC3)\\C(=C/C=Cc3ccc(\\C=C\\C(=O)N13)C2'\n",
            "[05:14:55] SMILES Parse Error: syntax error while parsing: CO\\N=C(/C(O-)=O)\\C=C\\c1ccc2oc3ccccc3c(=O)c2c1C(=O)c1c(O\n",
            "[05:14:55] SMILES Parse Error: check for mistakes around position 13:\n",
            "[05:14:55] CO\\N=C(/C(O-)=O)\\C=C\\c1ccc2oc3ccccc3c(=O)\n",
            "[05:14:55] ~~~~~~~~~~~~^\n",
            "[05:14:55] SMILES Parse Error: extra open parentheses while parsing: CO\\N=C(/C(O-)=O)\\C=C\\c1ccc2oc3ccccc3c(=O)c2c1C(=O)c1c(O\n",
            "[05:14:55] SMILES Parse Error: check for mistakes around position 7:\n",
            "[05:14:55] CO\\N=C(/C(O-)=O)\\C=C\\c1ccc2oc3ccccc3c(=O)\n",
            "[05:14:55] ~~~~~~^\n",
            "[05:14:55] SMILES Parse Error: extra open parentheses while parsing: CO\\N=C(/C(O-)=O)\\C=C\\c1ccc2oc3ccccc3c(=O)c2c1C(=O)c1c(O\n",
            "[05:14:55] SMILES Parse Error: check for mistakes around position 10:\n",
            "[05:14:55] CO\\N=C(/C(O-)=O)\\C=C\\c1ccc2oc3ccccc3c(=O)\n",
            "[05:14:55] ~~~~~~~~~^\n",
            "[05:14:55] SMILES Parse Error: Failed parsing SMILES 'CO\\N=C(/C(O-)=O)\\C=C\\c1ccc2oc3ccccc3c(=O)c2c1C(=O)c1c(O' for input: 'CO\\N=C(/C(O-)=O)\\C=C\\c1ccc2oc3ccccc3c(=O)c2c1C(=O)c1c(O'\n"
          ]
        },
        {
          "output_type": "stream",
          "name": "stdout",
          "text": [
            "Sample 99 of 150: [INVALID] CC12OC(CC1(O)COc1ccccc1)C(=O)CC21SCc2ccncc12N1CCN(C(C1)\n",
            "Sample 100 of 150: [INVALID] CN1C(=O)C2CCN3CCC(COCCC3)\\C(=C/C=Cc3ccc(\\C=C\\C(=O)N13)C2\n",
            "Sample 101 of 150: [INVALID] CO\\N=C(/C(O-)=O)\\C=C\\c1ccc2oc3ccccc3c(=O)c2c1C(=O)c1c(O\n"
          ]
        },
        {
          "output_type": "stream",
          "name": "stderr",
          "text": [
            "[05:14:55] SMILES Parse Error: syntax error while parsing: Cc1cnn(Cc2ccc(S(C)(=O)=O)cc2B)c1c1c(F)cc(cc1C#N)S(=O)(=\n",
            "[05:14:55] SMILES Parse Error: check for mistakes around position 55:\n",
            "[05:14:55] c(F)cc(cc1C#N)S(=O)(=\n",
            "[05:14:55] ~~~~~~~~~~~~~~~~~~~~^\n",
            "[05:14:55] SMILES Parse Error: Failed parsing SMILES 'Cc1cnn(Cc2ccc(S(C)(=O)=O)cc2B)c1c1c(F)cc(cc1C#N)S(=O)(=' for input: 'Cc1cnn(Cc2ccc(S(C)(=O)=O)cc2B)c1c1c(F)cc(cc1C#N)S(=O)(='\n",
            "[05:14:55] SMILES Parse Error: extra open parentheses while parsing: C(CCn1ccnc1)OCc1ccnc(c1)-c1cnnn1Cc1ccccc1N1CCC(=C(C1)c1\n",
            "[05:14:55] SMILES Parse Error: check for mistakes around position 47:\n",
            "[05:14:55] 1cnnn1Cc1ccccc1N1CCC(=C(C1)c1\n",
            "[05:14:55] ~~~~~~~~~~~~~~~~~~~~^\n",
            "[05:14:55] SMILES Parse Error: Failed parsing SMILES 'C(CCn1ccnc1)OCc1ccnc(c1)-c1cnnn1Cc1ccccc1N1CCC(=C(C1)c1' for input: 'C(CCn1ccnc1)OCc1ccnc(c1)-c1cnnn1Cc1ccccc1N1CCC(=C(C1)c1'\n",
            "[05:14:55] SMILES Parse Error: extra open parentheses while parsing: Fc1ccc2\\C(CCc2c1O)C(O)=ONCc1cccnc1N1c2ccc(F)cc2C(c2ccn\n",
            "[05:14:55] SMILES Parse Error: check for mistakes around position 49:\n",
            "[05:14:55] cccnc1N1c2ccc(F)cc2C(c2ccn\n",
            "[05:14:55] ~~~~~~~~~~~~~~~~~~~~^\n",
            "[05:14:55] SMILES Parse Error: Failed parsing SMILES 'Fc1ccc2\\C(CCc2c1O)C(O)=ONCc1cccnc1N1c2ccc(F)cc2C(c2ccn' for input: 'Fc1ccc2\\C(CCc2c1O)C(O)=ONCc1cccnc1N1c2ccc(F)cc2C(c2ccn'\n"
          ]
        },
        {
          "output_type": "stream",
          "name": "stdout",
          "text": [
            "Sample 102 of 150: [INVALID] Cc1cnn(Cc2ccc(S(C)(=O)=O)cc2B)c1c1c(F)cc(cc1C#N)S(=O)(=\n",
            "Sample 103 of 150: [INVALID] C(CCn1ccnc1)OCc1ccnc(c1)-c1cnnn1Cc1ccccc1N1CCC(=C(C1)c1\n",
            "Sample 104 of 150: [INVALID] Fc1ccc2\\C(CCc2c1O)C(O)=ONCc1cccnc1N1c2ccc(F)cc2C(c2ccn\n"
          ]
        },
        {
          "output_type": "stream",
          "name": "stderr",
          "text": [
            "[05:14:56] SMILES Parse Error: extra open parentheses while parsing: CC12CCC3C(CC=C4C(C(C)O)OC(=O)CCC(=O)O5)C1C1CC1C(Cc1cccc\n",
            "[05:14:56] SMILES Parse Error: check for mistakes around position 48:\n",
            "[05:14:56] O)CCC(=O)O5)C1C1CC1C(Cc1cccc\n",
            "[05:14:56] ~~~~~~~~~~~~~~~~~~~~^\n",
            "[05:14:56] SMILES Parse Error: Failed parsing SMILES 'CC12CCC3C(CC=C4C(C(C)O)OC(=O)CCC(=O)O5)C1C1CC1C(Cc1cccc' for input: 'CC12CCC3C(CC=C4C(C(C)O)OC(=O)CCC(=O)O5)C1C1CC1C(Cc1cccc'\n",
            "[05:14:56] SMILES Parse Error: unclosed ring for input: 'S=c1c(nc2ccccc2c1=O)-c1ccccc1C#NC(O)=OC(Cc1ccccc1)c1cc'\n",
            "[05:14:56] Can't kekulize mol.  Unkekulized atoms: 3 4 5 6 8 10 17\n"
          ]
        },
        {
          "output_type": "stream",
          "name": "stdout",
          "text": [
            "Sample 105 of 150: [INVALID] CC12CCC3C(CC=C4C(C(C)O)OC(=O)CCC(=O)O5)C1C1CC1C(Cc1cccc\n",
            "Sample 106 of 150: [INVALID] S=c1c(nc2ccccc2c1=O)-c1ccccc1C#NC(O)=OC(Cc1ccccc1)c1cc\n",
            "Sample 107 of 150: [INVALID] NC(=O)c1ccc(F)c2sc(Cn3cncn3)cc12N1CC(C1)c1ccccc1C(=O)c\n"
          ]
        },
        {
          "output_type": "stream",
          "name": "stderr",
          "text": [
            "[05:14:56] SMILES Parse Error: unclosed ring for input: 'C\\C(NC1CCc2ccc3n(C)c(=O)n(CCc4ccc(F)cc4)c3c(=O)c12)c1ccc'\n",
            "[05:14:56] SMILES Parse Error: unclosed ring for input: 'C1\\C=Cc2ccccc2CN1C(=S)n1ccc(C)c2cc(=O)n(C)c12c1cccc(F)c'\n",
            "[05:14:56] SMILES Parse Error: unclosed ring for input: 'C(\\c1cnc2NCCC\\C(c3cncn3)c2n1)c1ccccn1\\c1cccnn1c1ccc(F)'\n"
          ]
        },
        {
          "output_type": "stream",
          "name": "stdout",
          "text": [
            "Sample 108 of 150: [INVALID] C\\C(NC1CCc2ccc3n(C)c(=O)n(CCc4ccc(F)cc4)c3c(=O)c12)c1ccc\n",
            "Sample 109 of 150: [INVALID] C1\\C=Cc2ccccc2CN1C(=S)n1ccc(C)c2cc(=O)n(C)c12c1cccc(F)c\n",
            "Sample 110 of 150: [INVALID] C(\\c1cnc2NCCC\\C(c3cncn3)c2n1)c1ccccn1\\c1cccnn1c1ccc(F)\n"
          ]
        },
        {
          "output_type": "stream",
          "name": "stderr",
          "text": [
            "[05:14:56] Can't kekulize mol.  Unkekulized atoms: 24 25 26\n",
            "[05:14:56] SMILES Parse Error: unclosed ring for input: 'CO\\N=C\\C(O)C(COC(C)=O)=C/CC(C)C(O)=OOc2ccccc2C(=O)C=CC1'\n",
            "[05:14:56] SMILES Parse Error: extra open parentheses while parsing: CN1CC2(CN(CC=C)Cc3cccn2\\C2=C(C1O)C(=O)c2c(C)c(C)c3-c1ccn\n",
            "[05:14:56] SMILES Parse Error: check for mistakes around position 7:\n",
            "[05:14:56] CN1CC2(CN(CC=C)Cc3cccn2\\C2=C(C1O)C(=O)c2c\n",
            "[05:14:56] ~~~~~~^\n",
            "[05:14:56] SMILES Parse Error: Failed parsing SMILES 'CN1CC2(CN(CC=C)Cc3cccn2\\C2=C(C1O)C(=O)c2c(C)c(C)c3-c1ccn' for input: 'CN1CC2(CN(CC=C)Cc3cccn2\\C2=C(C1O)C(=O)c2c(C)c(C)c3-c1ccn'\n"
          ]
        },
        {
          "output_type": "stream",
          "name": "stdout",
          "text": [
            "Sample 111 of 150: [INVALID] Cc1nccc(n1)C#Cc1ccc(CN2Cc3ccccc3SC2c2cc(C)oc2=O)cc1N(C)\n",
            "Sample 112 of 150: [INVALID] CO\\N=C\\C(O)C(COC(C)=O)=C/CC(C)C(O)=OOc2ccccc2C(=O)C=CC1\n",
            "Sample 113 of 150: [INVALID] CN1CC2(CN(CC=C)Cc3cccn2\\C2=C(C1O)C(=O)c2c(C)c(C)c3-c1ccn\n"
          ]
        },
        {
          "output_type": "stream",
          "name": "stderr",
          "text": [
            "[05:14:56] SMILES Parse Error: syntax error while parsing: Cc1nccn1CCn1c(C)cnc(Nc2ccc(F)cc2F)c1=OC(C)Cc1ccc(cc1)S(\n",
            "[05:14:56] SMILES Parse Error: check for mistakes around position 55:\n",
            "[05:14:56] c1=OC(C)Cc1ccc(cc1)S(\n",
            "[05:14:56] ~~~~~~~~~~~~~~~~~~~~^\n",
            "[05:14:56] SMILES Parse Error: Failed parsing SMILES 'Cc1nccn1CCn1c(C)cnc(Nc2ccc(F)cc2F)c1=OC(C)Cc1ccc(cc1)S(' for input: 'Cc1nccn1CCn1c(C)cnc(Nc2ccc(F)cc2F)c1=OC(C)Cc1ccc(cc1)S('\n",
            "[05:14:56] SMILES Parse Error: extra open parentheses while parsing: BC1=CCC2\\C(CCCC12C)OCC(O)C(O)C#Cc1ccc(O)cc1CO(OC(C)=O\n",
            "[05:14:56] SMILES Parse Error: check for mistakes around position 46:\n",
            "[05:14:56] C(O)C#Cc1ccc(O)cc1CO(OC(C)=O\n",
            "[05:14:56] ~~~~~~~~~~~~~~~~~~~~^\n",
            "[05:14:56] SMILES Parse Error: Failed parsing SMILES 'BC1=CCC2\\C(CCCC12C)OCC(O)C(O)C#Cc1ccc(O)cc1CO(OC(C)=O' for input: 'BC1=CCC2\\C(CCCC12C)OCC(O)C(O)C#Cc1ccc(O)cc1CO(OC(C)=O'\n",
            "[05:14:56] SMILES Parse Error: unclosed ring for input: 'CC1(O)CO\\C1C\\C=C\\CCC1(C)NC(=O)NCC(=O)NC(Cc2cnc3ccccc23)C'\n"
          ]
        },
        {
          "output_type": "stream",
          "name": "stdout",
          "text": [
            "Sample 114 of 150: [INVALID] Cc1nccn1CCn1c(C)cnc(Nc2ccc(F)cc2F)c1=OC(C)Cc1ccc(cc1)S(\n",
            "Sample 115 of 150: [INVALID] BC1=CCC2\\C(CCCC12C)OCC(O)C(O)C#Cc1ccc(O)cc1CO(OC(C)=O\n",
            "Sample 116 of 150: [INVALID] CC1(O)CO\\C1C\\C=C\\CCC1(C)NC(=O)NCC(=O)NC(Cc2cnc3ccccc23)C\n"
          ]
        },
        {
          "output_type": "stream",
          "name": "stderr",
          "text": [
            "[05:14:56] SMILES Parse Error: syntax error while parsing: Fc1ccccc1-c1ccccc1NCC(N1C(CS(O-)C(CCc2ccc(F)cc2)=C1\\C=C\n",
            "[05:14:56] SMILES Parse Error: check for mistakes around position 32:\n",
            "[05:14:56] 1ccccc1NCC(N1C(CS(O-)C(CCc2ccc(F)cc2)=C1\\\n",
            "[05:14:56] ~~~~~~~~~~~~~~~~~~~~^\n",
            "[05:14:56] SMILES Parse Error: extra open parentheses while parsing: Fc1ccccc1-c1ccccc1NCC(N1C(CS(O-)C(CCc2ccc(F)cc2)=C1\\C=C\n",
            "[05:14:56] SMILES Parse Error: check for mistakes around position 22:\n",
            "[05:14:56] c1ccccc1-c1ccccc1NCC(N1C(CS(O-)C(CCc2ccc(\n",
            "[05:14:56] ~~~~~~~~~~~~~~~~~~~~^\n",
            "[05:14:56] SMILES Parse Error: extra open parentheses while parsing: Fc1ccccc1-c1ccccc1NCC(N1C(CS(O-)C(CCc2ccc(F)cc2)=C1\\C=C\n",
            "[05:14:56] SMILES Parse Error: check for mistakes around position 26:\n",
            "[05:14:56] ccc1-c1ccccc1NCC(N1C(CS(O-)C(CCc2ccc(F)cc\n",
            "[05:14:56] ~~~~~~~~~~~~~~~~~~~~^\n",
            "[05:14:56] SMILES Parse Error: extra open parentheses while parsing: Fc1ccccc1-c1ccccc1NCC(N1C(CS(O-)C(CCc2ccc(F)cc2)=C1\\C=C\n",
            "[05:14:56] SMILES Parse Error: check for mistakes around position 29:\n",
            "[05:14:56] 1-c1ccccc1NCC(N1C(CS(O-)C(CCc2ccc(F)cc2)=\n",
            "[05:14:56] ~~~~~~~~~~~~~~~~~~~~^\n",
            "[05:14:56] SMILES Parse Error: Failed parsing SMILES 'Fc1ccccc1-c1ccccc1NCC(N1C(CS(O-)C(CCc2ccc(F)cc2)=C1\\C=C' for input: 'Fc1ccccc1-c1ccccc1NCC(N1C(CS(O-)C(CCc2ccc(F)cc2)=C1\\C=C'\n",
            "[05:14:56] SMILES Parse Error: unclosed ring for input: 'S(=O)(=O)N1CCc2c(Cc3ccc(F)cc3F)cccc2C1c1ccccc1N1Cc2ccc'\n",
            "[05:14:57] SMILES Parse Error: unclosed ring for input: 'Fc1cnc(Cn2cnc3cc(ccc23)N2CCCNCC2C(O)=O)cc1NCc1cccnc1N1'\n"
          ]
        },
        {
          "output_type": "stream",
          "name": "stdout",
          "text": [
            "Sample 117 of 150: [INVALID] Fc1ccccc1-c1ccccc1NCC(N1C(CS(O-)C(CCc2ccc(F)cc2)=C1\\C=C\n",
            "Sample 118 of 150: [INVALID] S(=O)(=O)N1CCc2c(Cc3ccc(F)cc3F)cccc2C1c1ccccc1N1Cc2ccc\n",
            "Sample 119 of 150: [INVALID] Fc1cnc(Cn2cnc3cc(ccc23)N2CCCNCC2C(O)=O)cc1NCc1cccnc1N1\n"
          ]
        },
        {
          "output_type": "stream",
          "name": "stderr",
          "text": [
            "[05:14:57] SMILES Parse Error: ring closure 1 duplicates bond between atom 21 and atom 22 for input: 'COc1ccc2-c3nc(COc4ccc(F)cc4)nn3C2c11c1cccc(B)c1Nc1ccc'\n",
            "[05:14:57] Can't kekulize mol.  Unkekulized atoms: 2 3 22\n",
            "[05:14:57] SMILES Parse Error: extra open parentheses while parsing: COc1cc(F)ccc1-c1cncc(\\C=C\\C(=O)c2ccccc2OC)c1N(CC(C)(C)C\n",
            "[05:14:57] SMILES Parse Error: check for mistakes around position 46:\n",
            "[05:14:57] \\C(=O)c2ccccc2OC)c1N(CC(C)(C)C\n",
            "[05:14:57] ~~~~~~~~~~~~~~~~~~~~^\n",
            "[05:14:57] SMILES Parse Error: Failed parsing SMILES 'COc1cc(F)ccc1-c1cncc(\\C=C\\C(=O)c2ccccc2OC)c1N(CC(C)(C)C' for input: 'COc1cc(F)ccc1-c1cncc(\\C=C\\C(=O)c2ccccc2OC)c1N(CC(C)(C)C'\n"
          ]
        },
        {
          "output_type": "stream",
          "name": "stdout",
          "text": [
            "Sample 120 of 150: [INVALID] COc1ccc2-c3nc(COc4ccc(F)cc4)nn3C2c11c1cccc(B)c1Nc1ccc\n",
            "Sample 121 of 150: [INVALID] Cn1cc(CNc2cc(cn3ccccc23)-c2cccnc2)c(C)n1N1C(=O)CCCC1=O\n",
            "Sample 122 of 150: [INVALID] COc1cc(F)ccc1-c1cncc(\\C=C\\C(=O)c2ccccc2OC)c1N(CC(C)(C)C\n"
          ]
        },
        {
          "output_type": "stream",
          "name": "stderr",
          "text": [
            "[05:14:57] SMILES Parse Error: unclosed ring for input: 'CS(=O)(=O)c1ccc(cc1O)-c1cnc2nccc2c1C1=C(CCC(=O)C1=O)c1c'\n",
            "[05:14:57] non-ring atom 30 marked aromatic\n",
            "[05:14:57] SMILES Parse Error: unclosed ring for input: 'CC(F)c1nnc2CC3(C)CC(=O)C(C)(C)Oc1c23c1ncc(F)cc1FN1Cc2c'\n"
          ]
        },
        {
          "output_type": "stream",
          "name": "stdout",
          "text": [
            "Sample 123 of 150: [INVALID] CS(=O)(=O)c1ccc(cc1O)-c1cnc2nccc2c1C1=C(CCC(=O)C1=O)c1c\n",
            "Sample 124 of 150: [INVALID] FC(F)(F)Oc1ccc(NS(=O)(=O)c2ccc(cc2C)S(C)(=O)=O)cc1OCC#Cc\n",
            "Sample 125 of 150: [INVALID] CC(F)c1nnc2CC3(C)CC(=O)C(C)(C)Oc1c23c1ncc(F)cc1FN1Cc2c\n"
          ]
        },
        {
          "output_type": "stream",
          "name": "stderr",
          "text": [
            "[05:14:57] SMILES Parse Error: extra open parentheses while parsing: B#CCNC1COCC(=C1)n1cncn1S(C)(C)CC(=O)c1ccc(C)cc1NC(Cc1\n",
            "[05:14:57] SMILES Parse Error: check for mistakes around position 50:\n",
            "[05:14:57] )CC(=O)c1ccc(C)cc1NC(Cc1\n",
            "[05:14:57] ~~~~~~~~~~~~~~~~~~~~^\n",
            "[05:14:57] SMILES Parse Error: Failed parsing SMILES 'B#CCNC1COCC(=C1)n1cncn1S(C)(C)CC(=O)c1ccc(C)cc1NC(Cc1' for input: 'B#CCNC1COCC(=C1)n1cncn1S(C)(C)CC(=O)c1ccc(C)cc1NC(Cc1'\n",
            "[05:14:57] SMILES Parse Error: unclosed ring for input: 'Nc1cc(CCc2cc(ccc2F)C#N)nc(C)c1CC12CC(C1)OC2c1ccccc1c1'\n",
            "[05:14:57] SMILES Parse Error: extra open parentheses while parsing: Nc1c(nc2ccc(I)cn12)-c1ccc(Oc2ccncc2)cc1N(C(=O)c1cncnc1\n",
            "[05:14:57] SMILES Parse Error: check for mistakes around position 41:\n",
            "[05:14:57] c1ccc(Oc2ccncc2)cc1N(C(=O)c1cncnc1\n",
            "[05:14:57] ~~~~~~~~~~~~~~~~~~~~^\n",
            "[05:14:57] SMILES Parse Error: Failed parsing SMILES 'Nc1c(nc2ccc(I)cn12)-c1ccc(Oc2ccncc2)cc1N(C(=O)c1cncnc1' for input: 'Nc1c(nc2ccc(I)cn12)-c1ccc(Oc2ccncc2)cc1N(C(=O)c1cncnc1'\n"
          ]
        },
        {
          "output_type": "stream",
          "name": "stdout",
          "text": [
            "Sample 126 of 150: [INVALID] B#CCNC1COCC(=C1)n1cncn1S(C)(C)CC(=O)c1ccc(C)cc1NC(Cc1\n",
            "Sample 127 of 150: [INVALID] Nc1cc(CCc2cc(ccc2F)C#N)nc(C)c1CC12CC(C1)OC2c1ccccc1c1\n",
            "Sample 128 of 150: [INVALID] Nc1c(nc2ccc(I)cn12)-c1ccc(Oc2ccncc2)cc1N(C(=O)c1cncnc1\n"
          ]
        },
        {
          "output_type": "stream",
          "name": "stderr",
          "text": [
            "[05:14:57] SMILES Parse Error: unclosed ring for input: 'Bc1csc(c1)C1(C)c2nnc(N3CCCCC3)n2-c2ccc3OC(B)c4c(C)ccc(F)'\n",
            "[05:14:57] SMILES Parse Error: extra open parentheses while parsing: C#CCNC(=O)c1cnc(NCCc2ccc(SCCOc3ccc4ccc(F)cc4c3)n2)cc1S(N\n",
            "[05:14:57] SMILES Parse Error: check for mistakes around position 55:\n",
            "[05:14:57] 4ccc(F)cc4c3)n2)cc1S(N\n",
            "[05:14:57] ~~~~~~~~~~~~~~~~~~~~^\n",
            "[05:14:57] SMILES Parse Error: Failed parsing SMILES 'C#CCNC(=O)c1cnc(NCCc2ccc(SCCOc3ccc4ccc(F)cc4c3)n2)cc1S(N' for input: 'C#CCNC(=O)c1cnc(NCCc2ccc(SCCOc3ccc4ccc(F)cc4c3)n2)cc1S(N'\n",
            "[05:14:57] SMILES Parse Error: syntax error while parsing: CNC(=O)c1c(OC\\C=C\\B)cn2ncnc(-c3ccccc3)c12c1ccc(cc1)N(O-\n",
            "[05:14:57] SMILES Parse Error: check for mistakes around position 55:\n",
            "[05:14:57] cc3)c12c1ccc(cc1)N(O-\n",
            "[05:14:57] ~~~~~~~~~~~~~~~~~~~~^\n",
            "[05:14:57] SMILES Parse Error: extra open parentheses while parsing: CNC(=O)c1c(OC\\C=C\\B)cn2ncnc(-c3ccccc3)c12c1ccc(cc1)N(O-\n",
            "[05:14:57] SMILES Parse Error: check for mistakes around position 53:\n",
            "[05:14:57] cccc3)c12c1ccc(cc1)N(O-\n",
            "[05:14:57] ~~~~~~~~~~~~~~~~~~~~^\n",
            "[05:14:57] SMILES Parse Error: Failed parsing SMILES 'CNC(=O)c1c(OC\\C=C\\B)cn2ncnc(-c3ccccc3)c12c1ccc(cc1)N(O-' for input: 'CNC(=O)c1c(OC\\C=C\\B)cn2ncnc(-c3ccccc3)c12c1ccc(cc1)N(O-'\n"
          ]
        },
        {
          "output_type": "stream",
          "name": "stdout",
          "text": [
            "Sample 129 of 150: [INVALID] Bc1csc(c1)C1(C)c2nnc(N3CCCCC3)n2-c2ccc3OC(B)c4c(C)ccc(F)\n",
            "Sample 130 of 150: [INVALID] C#CCNC(=O)c1cnc(NCCc2ccc(SCCOc3ccc4ccc(F)cc4c3)n2)cc1S(N\n",
            "Sample 131 of 150: [INVALID] CNC(=O)c1c(OC\\C=C\\B)cn2ncnc(-c3ccccc3)c12c1ccc(cc1)N(O-\n"
          ]
        },
        {
          "output_type": "stream",
          "name": "stderr",
          "text": [
            "[05:14:58] SMILES Parse Error: unclosed ring for input: 'C1C(N(C(=O)C2CC=CCC2(C1)c1ccc(cc1)N1Cc2ccco2)C1=O)c1cccn'\n",
            "[05:14:58] Explicit valence for atom # 26 C, 6, is greater than permitted\n",
            "[05:14:58] Can't kekulize mol.  Unkekulized atoms: 15 16 17 18 19\n"
          ]
        },
        {
          "output_type": "stream",
          "name": "stdout",
          "text": [
            "Sample 132 of 150: [INVALID] C1C(N(C(=O)C2CC=CCC2(C1)c1ccc(cc1)N1Cc2ccco2)C1=O)c1cccn\n",
            "Sample 133 of 150: [INVALID] CC#CCOc1cccc(c1)-c1cccc2ccc(N=NS(C)(=O)=O)cc12c1cccnc1C\n",
            "Sample 134 of 150: [INVALID] Fc1cc(F)cc(F)c1CN1C(=O)C(=O)c2ccccc12c1cccc(F)c1NCC(F)\n"
          ]
        },
        {
          "output_type": "stream",
          "name": "stderr",
          "text": [
            "[05:14:58] SMILES Parse Error: extra open parentheses while parsing: CS(=O)(=O)N(c1cccc(c1)-c1nnnn1)n1ccc2c(C)cc(cc12)N(CC1C2\n",
            "[05:14:58] SMILES Parse Error: check for mistakes around position 51:\n",
            "[05:14:58] )n1ccc2c(C)cc(cc12)N(CC1C2\n",
            "[05:14:58] ~~~~~~~~~~~~~~~~~~~~^\n",
            "[05:14:58] SMILES Parse Error: Failed parsing SMILES 'CS(=O)(=O)N(c1cccc(c1)-c1nnnn1)n1ccc2c(C)cc(cc12)N(CC1C2' for input: 'CS(=O)(=O)N(c1cccc(c1)-c1nnnn1)n1ccc2c(C)cc(cc12)N(CC1C2'\n",
            "[05:14:58] SMILES Parse Error: unclosed ring for input: 'Cn1ccc2cccc(CN3CCOCC3)c12c1cccc2ccccc12N(CC=C)CC#CC1O'\n",
            "[05:14:58] SMILES Parse Error: unclosed ring for input: 'CC1SC(C)C(O)C(O)c2cccnc2O1S(C)(=O)=Oc1ccc2occc2c1C5=c'\n"
          ]
        },
        {
          "output_type": "stream",
          "name": "stdout",
          "text": [
            "Sample 135 of 150: [INVALID] CS(=O)(=O)N(c1cccc(c1)-c1nnnn1)n1ccc2c(C)cc(cc12)N(CC1C2\n",
            "Sample 136 of 150: [INVALID] Cn1ccc2cccc(CN3CCOCC3)c12c1cccc2ccccc12N(CC=C)CC#CC1O\n",
            "Sample 137 of 150: [INVALID] CC1SC(C)C(O)C(O)c2cccnc2O1S(C)(=O)=Oc1ccc2occc2c1C5=c\n"
          ]
        },
        {
          "output_type": "stream",
          "name": "stderr",
          "text": [
            "[05:14:58] SMILES Parse Error: unclosed ring for input: 'C#CCOc1c(OCCCC(F)(F)F)cc2scc(-c3ccn(C)c3)c(=O)c2n1N1CCN'\n",
            "[05:14:58] SMILES Parse Error: extra open parentheses while parsing: C(c1ccccc1C(C#N)c1nccn1C1=Cc2ccc(cc2)-n2ccnn2)OCC1=OC(C\n",
            "[05:14:58] SMILES Parse Error: check for mistakes around position 54:\n",
            "[05:14:58] cc2)-n2ccnn2)OCC1=OC(C\n",
            "[05:14:58] ~~~~~~~~~~~~~~~~~~~~^\n",
            "[05:14:58] SMILES Parse Error: Failed parsing SMILES 'C(c1ccccc1C(C#N)c1nccn1C1=Cc2ccc(cc2)-n2ccnn2)OCC1=OC(C' for input: 'C(c1ccccc1C(C#N)c1nccn1C1=Cc2ccc(cc2)-n2ccnn2)OCC1=OC(C'\n",
            "[05:14:58] SMILES Parse Error: extra open parentheses while parsing: c1csc(c1)S(=O)(=O)c1cc(N2CCN(C3CC3)S2(=O)=O)c(Oc2cnc3ncc\n",
            "[05:14:58] SMILES Parse Error: check for mistakes around position 46:\n",
            "[05:14:58] CCN(C3CC3)S2(=O)=O)c(Oc2cnc3ncc\n",
            "[05:14:58] ~~~~~~~~~~~~~~~~~~~~^\n",
            "[05:14:58] SMILES Parse Error: Failed parsing SMILES 'c1csc(c1)S(=O)(=O)c1cc(N2CCN(C3CC3)S2(=O)=O)c(Oc2cnc3ncc' for input: 'c1csc(c1)S(=O)(=O)c1cc(N2CCN(C3CC3)S2(=O)=O)c(Oc2cnc3ncc'\n"
          ]
        },
        {
          "output_type": "stream",
          "name": "stdout",
          "text": [
            "Sample 138 of 150: [INVALID] C#CCOc1c(OCCCC(F)(F)F)cc2scc(-c3ccn(C)c3)c(=O)c2n1N1CCN\n",
            "Sample 139 of 150: [INVALID] C(c1ccccc1C(C#N)c1nccn1C1=Cc2ccc(cc2)-n2ccnn2)OCC1=OC(C\n",
            "Sample 140 of 150: [INVALID] c1csc(c1)S(=O)(=O)c1cc(N2CCN(C3CC3)S2(=O)=O)c(Oc2cnc3ncc\n"
          ]
        },
        {
          "output_type": "stream",
          "name": "stderr",
          "text": [
            "[05:14:58] SMILES Parse Error: syntax error while parsing: CNC(=O)Nc1ccc(cc1)S(=O)(=O)c1cc(nn1)C(=O)NCc1ncnn1COCC(\n",
            "[05:14:58] SMILES Parse Error: check for mistakes around position 55:\n",
            "[05:14:58] 1)C(=O)NCc1ncnn1COCC(\n",
            "[05:14:58] ~~~~~~~~~~~~~~~~~~~~^\n",
            "[05:14:58] SMILES Parse Error: Failed parsing SMILES 'CNC(=O)Nc1ccc(cc1)S(=O)(=O)c1cc(nn1)C(=O)NCc1ncnn1COCC(' for input: 'CNC(=O)Nc1ccc(cc1)S(=O)(=O)c1cc(nn1)C(=O)NCc1ncnn1COCC('\n",
            "[05:14:58] SMILES Parse Error: extra open parentheses while parsing: Cc1cn(C2OC(COS(C)(C)C)C(=O)C3CC3\\C=C/CCCC(=O)OCC3OC(CO)C\n",
            "[05:14:58] SMILES Parse Error: check for mistakes around position 6:\n",
            "[05:14:58] Cc1cn(C2OC(COS(C)(C)C)C(=O)C3CC3\\C=C/CCCC\n",
            "[05:14:58] ~~~~~^\n",
            "[05:14:58] SMILES Parse Error: Failed parsing SMILES 'Cc1cn(C2OC(COS(C)(C)C)C(=O)C3CC3\\C=C/CCCC(=O)OCC3OC(CO)C' for input: 'Cc1cn(C2OC(COS(C)(C)C)C(=O)C3CC3\\C=C/CCCC(=O)OCC3OC(CO)C'\n",
            "[05:14:58] SMILES Parse Error: extra open parentheses while parsing: CC(O)Cc1cn(c2CC(C)(C)CC(=O)CCc3ccnnc3)c12NC(=O)c1csc(c1\n",
            "[05:14:58] SMILES Parse Error: check for mistakes around position 53:\n",
            "[05:14:58] cnnc3)c12NC(=O)c1csc(c1\n",
            "[05:14:58] ~~~~~~~~~~~~~~~~~~~~^\n",
            "[05:14:58] SMILES Parse Error: Failed parsing SMILES 'CC(O)Cc1cn(c2CC(C)(C)CC(=O)CCc3ccnnc3)c12NC(=O)c1csc(c1' for input: 'CC(O)Cc1cn(c2CC(C)(C)CC(=O)CCc3ccnnc3)c12NC(=O)c1csc(c1'\n"
          ]
        },
        {
          "output_type": "stream",
          "name": "stdout",
          "text": [
            "Sample 141 of 150: [INVALID] CNC(=O)Nc1ccc(cc1)S(=O)(=O)c1cc(nn1)C(=O)NCc1ncnn1COCC(\n",
            "Sample 142 of 150: [INVALID] Cc1cn(C2OC(COS(C)(C)C)C(=O)C3CC3\\C=C/CCCC(=O)OCC3OC(CO)C\n",
            "Sample 143 of 150: [INVALID] CC(O)Cc1cn(c2CC(C)(C)CC(=O)CCc3ccnnc3)c12NC(=O)c1csc(c1\n"
          ]
        },
        {
          "output_type": "stream",
          "name": "stderr",
          "text": [
            "[05:14:58] SMILES Parse Error: unclosed ring for input: 'S=c1nnc(SCCc2ccc(cc2N2CCCCCC2)O\\c2nnnn2-c2ccccc2)n1CC1CC'\n",
            "[05:14:58] SMILES Parse Error: extra open parentheses while parsing: Nc1ncnc2n(cnc12)C1OC(Cn2cscn2)(C(O)=O)C(O)=OC(OCc2ccccc\n",
            "[05:14:58] SMILES Parse Error: check for mistakes around position 46:\n",
            "[05:14:58] scn2)(C(O)=O)C(O)=OC(OCc2ccccc\n",
            "[05:14:58] ~~~~~~~~~~~~~~~~~~~~^\n",
            "[05:14:58] SMILES Parse Error: Failed parsing SMILES 'Nc1ncnc2n(cnc12)C1OC(Cn2cscn2)(C(O)=O)C(O)=OC(OCc2ccccc' for input: 'Nc1ncnc2n(cnc12)C1OC(Cn2cscn2)(C(O)=O)C(O)=OC(OCc2ccccc'\n",
            "[05:14:59] SMILES Parse Error: syntax error while parsing: C12CCN(CC1()CCO2)c1nccnc1C#NC(=O)c1cc(-c2ccc(O)cc2O)c(c\n",
            "[05:14:59] SMILES Parse Error: check for mistakes around position 12:\n",
            "[05:14:59] C12CCN(CC1()CCO2)c1nccnc1C#NC(=O)c1cc(-c2\n",
            "[05:14:59] ~~~~~~~~~~~^\n",
            "[05:14:59] SMILES Parse Error: extra open parentheses while parsing: C12CCN(CC1()CCO2)c1nccnc1C#NC(=O)c1cc(-c2ccc(O)cc2O)c(c\n",
            "[05:14:59] SMILES Parse Error: check for mistakes around position 7:\n",
            "[05:14:59] C12CCN(CC1()CCO2)c1nccnc1C#NC(=O)c1cc(-c2\n",
            "[05:14:59] ~~~~~~^\n",
            "[05:14:59] SMILES Parse Error: Failed parsing SMILES 'C12CCN(CC1()CCO2)c1nccnc1C#NC(=O)c1cc(-c2ccc(O)cc2O)c(c' for input: 'C12CCN(CC1()CCO2)c1nccnc1C#NC(=O)c1cc(-c2ccc(O)cc2O)c(c'\n"
          ]
        },
        {
          "output_type": "stream",
          "name": "stdout",
          "text": [
            "Sample 144 of 150: [INVALID] S=c1nnc(SCCc2ccc(cc2N2CCCCCC2)O\\c2nnnn2-c2ccccc2)n1CC1CC\n",
            "Sample 145 of 150: [INVALID] Nc1ncnc2n(cnc12)C1OC(Cn2cscn2)(C(O)=O)C(O)=OC(OCc2ccccc\n",
            "Sample 146 of 150: [INVALID] C12CCN(CC1()CCO2)c1nccnc1C#NC(=O)c1cc(-c2ccc(O)cc2O)c(c\n"
          ]
        },
        {
          "output_type": "stream",
          "name": "stderr",
          "text": [
            "[05:14:59] SMILES Parse Error: syntax error while parsing: C\\C(Cc1ccc(OC)cc1)n1cc(-c2ccc(cc2)C(O)=O)c(=O)cc1-c1csc(\n",
            "[05:14:59] SMILES Parse Error: check for mistakes around position 56:\n",
            "[05:14:59] (O)=O)c(=O)cc1-c1csc(\n",
            "[05:14:59] ~~~~~~~~~~~~~~~~~~~~^\n",
            "[05:14:59] SMILES Parse Error: Failed parsing SMILES 'C\\C(Cc1ccc(OC)cc1)n1cc(-c2ccc(cc2)C(O)=O)c(=O)cc1-c1csc(' for input: 'C\\C(Cc1ccc(OC)cc1)n1cc(-c2ccc(cc2)C(O)=O)c(=O)cc1-c1csc('\n",
            "[05:14:59] Explicit valence for atom # 30 O, 3, is greater than permitted\n",
            "[05:14:59] SMILES Parse Error: unclosed ring for input: 'CC(C=C(C)C)C(O)c1cc(O)c(Cc2nnc(o2)-c2ccncc2)no1NC12CC3'\n"
          ]
        },
        {
          "output_type": "stream",
          "name": "stdout",
          "text": [
            "Sample 147 of 150: [INVALID] C\\C(Cc1ccc(OC)cc1)n1cc(-c2ccc(cc2)C(O)=O)c(=O)cc1-c1csc(\n",
            "Sample 148 of 150: [INVALID] CNC(c1ccc(cc1)N(c1ccccc1)c1ccc(O)cc1)n1ccnc1C(O)=OOC(C)\n",
            "Sample 149 of 150: [INVALID] CC(C=C(C)C)C(O)c1cc(O)c(Cc2nnc(o2)-c2ccncc2)no1NC12CC3\n",
            "Sample 150 of 150: [INVALID] CC12CCC3C(CC=C4CC(O)CCC34N1C)OCC=C1C(=O)CCC21OC(=O)c1c(\n",
            "\n",
            "==========================================\n",
            "--- FINAL RESULTS ---\n",
            "Total Valid Samples: 6 out of 150 generated.\n",
            "Validity Percentage: 4.00%\n",
            "==========================================\n",
            "\n",
            "Final List of Valid SMILES:\n",
            "  1. Nc1oc(nc1C(=O)Nc1ccc(CCCc2ccncc2C)cc1)-c1cnccc1S(C)(=O)\n",
            "  2. CCCCOc1cc(C)cc2cc(-c3ccccc3)c(OCc3cc(F)cc(F)c3)c(=O)n12\n",
            "  3. Fc1cc(N)cc2ncc(nc12)C1CCC(CC1)NC1CCOCC1Cc1ccccc1C(F)(F)\n",
            "  4. C1=C(CSC1)Oc1cncnc1C(=O)N1CC2(C1)C(C1CCCCCCC1)c1ccccc21\n",
            "  5. O=C1\\C(\\C=C\\CC=C)C(=O)CC11CCN(Cc2ccc(F)cc2)CC1c1ccccc1\n",
            "  6. CC(C)c1cc(F)c(Cn2nnc(Cc3ccncn3)c2Oc2cccc(c2)C(F)(F)F)cc1\n",
            "\n",
            "Drawing, saving, and displaying 6 valid molecular structures...\n",
            "Displaying structure 1...\n"
          ]
        },
        {
          "output_type": "stream",
          "name": "stderr",
          "text": [
            "[05:14:59] SMILES Parse Error: syntax error while parsing: CC12CCC3C(CC=C4CC(O)CCC34N1C)OCC=C1C(=O)CCC21OC(=O)c1c(\n",
            "[05:14:59] SMILES Parse Error: check for mistakes around position 55:\n",
            "[05:14:59] 1C(=O)CCC21OC(=O)c1c(\n",
            "[05:14:59] ~~~~~~~~~~~~~~~~~~~~^\n",
            "[05:14:59] SMILES Parse Error: Failed parsing SMILES 'CC12CCC3C(CC=C4CC(O)CCC34N1C)OCC=C1C(=O)CCC21OC(=O)c1c(' for input: 'CC12CCC3C(CC=C4CC(O)CCC34N1C)OCC=C1C(=O)CCC21OC(=O)c1c('\n"
          ]
        },
        {
          "output_type": "display_data",
          "data": {
            "text/plain": [
              "<PIL.PngImagePlugin.PngImageFile image mode=RGB size=300x300>"
            ],
            "image/png": "[encoded data removed]",
            "image/jpeg": "[encoded data removed]"
          },
          "metadata": {}
        },
        {
          "output_type": "stream",
          "name": "stdout",
          "text": [
            "Displaying structure 2...\n"
          ]
        },
        {
          "output_type": "display_data",
          "data": {
            "text/plain": [
              "<PIL.PngImagePlugin.PngImageFile image mode=RGB size=300x300>"
            ],
            "image/png": "[encoded data removed]",
            "image/jpeg": "[encoded data removed]"
          },
          "metadata": {}
        },
        {
          "output_type": "stream",
          "name": "stdout",
          "text": [
            "Displaying structure 3...\n"
          ]
        },
        {
          "output_type": "display_data",
          "data": {
            "text/plain": [
              "<PIL.PngImagePlugin.PngImageFile image mode=RGB size=300x300>"
            ],
            "image/png": "[encoded data removed]",
            "image/jpeg": "[encoded data removed]"
          },
          "metadata": {}
        },
        {
          "output_type": "stream",
          "name": "stdout",
          "text": [
            "Displaying structure 4...\n"
          ]
        },
        {
          "output_type": "display_data",
          "data": {
            "text/plain": [
              "<PIL.PngImagePlugin.PngImageFile image mode=RGB size=300x300>"
            ],
            "image/png": "[encoded data removed]",
            "image/jpeg": "[encoded data removed]"
          },
          "metadata": {}
        },
        {
          "output_type": "stream",
          "name": "stdout",
          "text": [
            "Displaying structure 5...\n"
          ]
        },
        {
          "output_type": "display_data",
          "data": {
            "text/plain": [
              "<PIL.PngImagePlugin.PngImageFile image mode=RGB size=300x300>"
            ],
            "image/png": "[encoded data removed]",
            "image/jpeg": "[encoded data removed]"
          },
          "metadata": {}
        },
        {
          "output_type": "stream",
          "name": "stdout",
          "text": [
            "Displaying structure 6...\n"
          ]
        },
        {
          "output_type": "display_data",
          "data": {
            "text/plain": [
              "<PIL.PngImagePlugin.PngImageFile image mode=RGB size=300x300>"
            ],
            "image/png": "[encoded data removed]",
            "image/jpeg": "[encoded data removed]"
          },
          "metadata": {}
        },
        {
          "output_type": "stream",
          "name": "stdout",
          "text": [
            "\n",
            "✅ Structures saved to the 'generated_structures' directory and displayed!\n"
          ]
        }
      ]
    },
    {
      "cell_type": "code",
      "source": [
        "# --- INSTALL LIBRARIES (if not already installed) ---\n",
        "!pip install pandas\n",
        "\n",
        "import pandas as pd\n",
        "from rdkit import Chem\n",
        "from rdkit.Chem import Descriptors\n",
        "from rdkit.Chem.FilterCatalog import FilterCatalogParams, FilterCatalog\n",
        "\n",
        "# --- Define Ro5 Criteria ---\n",
        "LIPINSKI_CRITERIA = {\n",
        "    'MW': 500,\n",
        "    'LogP': 5.0,\n",
        "    'HBD': 5,\n",
        "    'HBA': 10\n",
        "}\n",
        "\n",
        "# --- PAINS Filter Setup ---\n",
        "# Initialize the filter catalog for PAINS\n",
        "params = FilterCatalogParams()\n",
        "params.AddCatalog(FilterCatalogParams.FilterCatalogs.PAINS)\n",
        "pains_catalog = FilterCatalog(params)\n",
        "\n",
        "def check_lipinski_rule(mol):\n",
        "    \"\"\"Checks if a molecule violates Lipinski's Rule of Five (Ro5).\"\"\"\n",
        "    violations = 0\n",
        "    mw = Descriptors.MolWt(mol)\n",
        "    logp = Descriptors.MolLogP(mol)\n",
        "    hbd = Descriptors.NumHDonors(mol)\n",
        "    hba = Descriptors.NumHAcceptors(mol)\n",
        "\n",
        "    # Check violations against criteria\n",
        "    if mw > LIPINSKI_CRITERIA['MW']: violations += 1\n",
        "    if logp > LIPINSKI_CRITERIA['LogP']: violations += 1\n",
        "    if hbd > LIPINSKI_CRITERIA['HBD']: violations += 1\n",
        "    if hba > LIPINSKI_CRITERIA['HBA']: violations += 1\n",
        "\n",
        "    # Ro5 status: Pass if <= 1 violation\n",
        "    ro5_pass = violations <= 1\n",
        "\n",
        "    return mw, logp, hbd, hba, violations, ro5_pass\n",
        "\n",
        "def check_pains(mol):\n",
        "    \"\"\"Checks if a molecule matches any pattern in the PAINS catalog.\"\"\"\n",
        "    matches = pains_catalog.GetMatches(mol)\n",
        "    is_pains = len(matches) > 0\n",
        "    pains_descriptions = [match.GetDescription() for match in matches]\n",
        "    return is_pains, \"; \".join(pains_descriptions)\n",
        "\n",
        "def filter_drug_likeness(smiles_list: list) -> pd.DataFrame:\n",
        "    \"\"\"Applies Ro5 and PAINS filters.\"\"\"\n",
        "    results = []\n",
        "\n",
        "    for smi in smiles_list:\n",
        "        mol = Chem.MolFromSmiles(smi)\n",
        "        if mol is None: continue\n",
        "\n",
        "        mw, logp, hbd, hba, ro5_viol, ro5_pass = check_lipinski_rule(mol)\n",
        "        is_pains, pains_desc = check_pains(mol)\n",
        "\n",
        "        final_pass = ro5_pass and not is_pains\n",
        "\n",
        "        results.append({\n",
        "            'SMILES': smi,\n",
        "            'MW': f\"{mw:.2f}\",\n",
        "            'LogP': f\"{logp:.2f}\",\n",
        "            'HBD': hbd,\n",
        "            'HBA': hba,\n",
        "            'Ro5 Violations': ro5_viol,\n",
        "            'Ro5 Pass': ro5_pass,\n",
        "            'Is PAINS': is_pains,\n",
        "            'PAINS Desc': pains_desc,\n",
        "            'Final Pass': final_pass\n",
        "        })\n",
        "\n",
        "    df = pd.DataFrame(results)\n",
        "    return df\n",
        "\n",
        "# --- MAIN EXECUTION ---\n",
        "if 'valid_smiles' in globals() and valid_smiles:\n",
        "    print(f\"Starting Drug-Likeness and PAINS filtering on {len(valid_smiles)} valid molecules...\")\n",
        "\n",
        "    df_filtered = filter_drug_likeness(valid_smiles)\n",
        "    output_csv_path = 'drug_likeness_filtered_results.csv'\n",
        "    df_filtered.to_csv(output_csv_path, index=False)\n",
        "\n",
        "    final_hits = df_filtered[df_filtered['Final Pass'] == True]['SMILES'].tolist()\n",
        "\n",
        "    print(\"\\n=============================================\")\n",
        "    print(f\"--- FILTERING SUMMARY (Total: {len(valid_smiles)} valid SMILES) ---\")\n",
        "    print(\"=============================================\")\n",
        "    print(f\"Molecules Passing Ro5: {df_filtered['Ro5 Pass'].sum()} / {len(valid_smiles)}\")\n",
        "    print(f\"Molecules Failing PAINS: {df_filtered['Is PAINS'].sum()} / {len(valid_smiles)}\")\n",
        "    print(f\"\\nFINAL LEAD HITS (Passing Ro5 AND not PAINS): {len(final_hits)}\")\n",
        "    print(\"=============================================\\n\")\n",
        "\n",
        "    print(\"Full Filtering Results:\")\n",
        "    print(df_filtered.to_markdown(index=False))\n",
        "\n",
        "    if final_hits:\n",
        "        print(\"\\nFinal List of High-Confidence Lead SMILES (Ready for Docking):\")\n",
        "        for i, smi in enumerate(final_hits):\n",
        "            print(f\" {i+1}. {smi}\")\n",
        "\n",
        "    print(f\"\\n✅ Detailed results saved to {output_csv_path}\")\n",
        "\n",
        "elif 'valid_smiles' in globals() and not valid_smiles:\n",
        "    print(\"The 'valid_smiles' list is empty. Cannot perform filtering.\")\n",
        "else:\n",
        "    print(\"ERROR: The 'valid_smiles' list was not found. Please ensure you ran the prediction code cell immediately before this cell.\")"
      ],
      "metadata": {
        "colab": {
          "base_uri": "https://localhost:8080/"
        },
        "id": "GdNPk1YPkk22",
        "outputId": "90259a3c-cfe3-414d-e5cd-d99d48de5b33"
      },
      "id": "GdNPk1YPkk22",
      "execution_count": 7,
      "outputs": [
        {
          "output_type": "stream",
          "name": "stdout",
          "text": [
            "Requirement already satisfied: pandas in /usr/local/lib/python3.12/dist-packages (2.2.2)\n",
            "Requirement already satisfied: numpy>=1.26.0 in /usr/local/lib/python3.12/dist-packages (from pandas) (2.0.2)\n",
            "Requirement already satisfied: python-dateutil>=2.8.2 in /usr/local/lib/python3.12/dist-packages (from pandas) (2.9.0.post0)\n",
            "Requirement already satisfied: pytz>=2020.1 in /usr/local/lib/python3.12/dist-packages (from pandas) (2025.2)\n",
            "Requirement already satisfied: tzdata>=2022.7 in /usr/local/lib/python3.12/dist-packages (from pandas) (2025.2)\n",
            "Requirement already satisfied: six>=1.5 in /usr/local/lib/python3.12/dist-packages (from python-dateutil>=2.8.2->pandas) (1.17.0)\n",
            "Starting Drug-Likeness and PAINS filtering on 6 valid molecules...\n",
            "\n",
            "=============================================\n",
            "--- FILTERING SUMMARY (Total: 6 valid SMILES) ---\n",
            "=============================================\n",
            "Molecules Passing Ro5: 6 / 6\n",
            "Molecules Failing PAINS: 0 / 6\n",
            "\n",
            "FINAL LEAD HITS (Passing Ro5 AND not PAINS): 6\n",
            "=============================================\n",
            "\n",
            "Full Filtering Results:\n",
            "| SMILES                                                   |     MW |   LogP |   HBD |   HBA |   Ro5 Violations | Ro5 Pass   | Is PAINS   | PAINS Desc   | Final Pass   |\n",
            "|:---------------------------------------------------------|-------:|-------:|------:|------:|-----------------:|:-----------|:-----------|:-------------|:-------------|\n",
            "| Nc1oc(nc1C(=O)Nc1ccc(CCCc2ccncc2C)cc1)-c1cnccc1S(C)(=O)  | 475.57 |   4.19 |     2 |     7 |                0 | True       | False      |              | True         |\n",
            "| CCCCOc1cc(C)cc2cc(-c3ccccc3)c(OCc3cc(F)cc(F)c3)c(=O)n12  | 449.5  |   6.31 |     0 |     4 |                1 | True       | False      |              | True         |\n",
            "| Fc1cc(N)cc2ncc(nc12)C1CCC(CC1)NC1CCOCC1Cc1ccccc1C(F)(F)  | 484.57 |   5.55 |     2 |     5 |                1 | True       | False      |              | True         |\n",
            "| C1=C(CSC1)Oc1cncnc1C(=O)N1CC2(C1)C(C1CCCCCCC1)c1ccccc21  | 461.63 |   5.34 |     0 |     5 |                1 | True       | False      |              | True         |\n",
            "| O=C1\\C(\\C=C\\CC=C)C(=O)CC11CCN(Cc2ccc(F)cc2)CC1c1ccccc1   | 417.52 |   5.09 |     0 |     3 |                1 | True       | False      |              | True         |\n",
            "| CC(C)c1cc(F)c(Cn2nnc(Cc3ccncn3)c2Oc2cccc(c2)C(F)(F)F)cc1 | 471.46 |   5.78 |     0 |     6 |                1 | True       | False      |              | True         |\n",
            "\n",
            "Final List of High-Confidence Lead SMILES (Ready for Docking):\n",
            " 1. Nc1oc(nc1C(=O)Nc1ccc(CCCc2ccncc2C)cc1)-c1cnccc1S(C)(=O)\n",
            " 2. CCCCOc1cc(C)cc2cc(-c3ccccc3)c(OCc3cc(F)cc(F)c3)c(=O)n12\n",
            " 3. Fc1cc(N)cc2ncc(nc12)C1CCC(CC1)NC1CCOCC1Cc1ccccc1C(F)(F)\n",
            " 4. C1=C(CSC1)Oc1cncnc1C(=O)N1CC2(C1)C(C1CCCCCCC1)c1ccccc21\n",
            " 5. O=C1\\C(\\C=C\\CC=C)C(=O)CC11CCN(Cc2ccc(F)cc2)CC1c1ccccc1\n",
            " 6. CC(C)c1cc(F)c(Cn2nnc(Cc3ccncn3)c2Oc2cccc(c2)C(F)(F)F)cc1\n",
            "\n",
            "✅ Detailed results saved to drug_likeness_filtered_results.csv\n"
          ]
        }
      ]
    },
    {
      "cell_type": "code",
      "source": [
        "#Maximal Common Substructure (MCS) Analysis Code\n",
        "\n",
        "\n",
        "from rdkit import Chem\n",
        "from rdkit.Chem.Draw import MolToImage\n",
        "from rdkit.Chem.rdFMCS import FindMCS\n",
        "from IPython.display import display\n",
        "\n",
        "# --- Assuming 'valid_smiles' is the list generated by the previous cell ---\n",
        "\n",
        "def perform_mcs_analysis(smiles_list: list):\n",
        "    \"\"\"\n",
        "    Performs Maximal Common Substructure (MCS) analysis on a list of SMILES\n",
        "    and displays the common scaffold.\n",
        "    \"\"\"\n",
        "    if not smiles_list:\n",
        "        print(\"Cannot perform MCS analysis: The list of valid SMILES is empty.\")\n",
        "        return\n",
        "\n",
        "    # 1. Convert SMILES list to RDKit Mol objects\n",
        "    # Note: We must re-import RDKit functions here, as this is a new cell.\n",
        "    mols = [Chem.MolFromSmiles(smi) for smi in smiles_list if Chem.MolFromSmiles(smi) is not None]\n",
        "\n",
        "    if len(mols) < 2:\n",
        "        print(f\"Cannot perform MCS analysis: Found only {len(mols)} valid molecule(s). Need at least two structures.\")\n",
        "        return\n",
        "\n",
        "    print(f\"Starting MCS analysis on {len(mols)} valid molecules...\")\n",
        "\n",
        "    # 2. Find the Maximal Common Substructure (MCS)\n",
        "    # atomCompare=Chem.rdFMCS.AtomCompare.CompareElements ensures C, N, O, etc., are distinguished.\n",
        "    mcs_result = FindMCS(mols, timeout=60, atomCompare=Chem.rdFMCS.AtomCompare.CompareElements)\n",
        "\n",
        "    mcs_smarts = mcs_result.smartsString\n",
        "    mcs_mol = Chem.MolFromSmarts(mcs_smarts)\n",
        "\n",
        "    # 3. Output Results\n",
        "    print(\"\\n==============================================\")\n",
        "    print(\"      Maximal Common Substructure (MCS)\")\n",
        "    print(\"==============================================\")\n",
        "    print(f\"Input Molecules: {len(mols)}\")\n",
        "    print(f\"MCS SMARTS String: {mcs_smarts}\")\n",
        "\n",
        "    # Check for meaningful MCS (more than a single atom)\n",
        "    if mcs_mol and len(mcs_smarts) > 1:\n",
        "        # 4. Display the MCS Scaffold\n",
        "        print(\"\\nDisplaying the common molecular scaffold:\")\n",
        "\n",
        "        # Use MolToImage and display for Colab\n",
        "        img = MolToImage(mcs_mol, size=(400, 200), legend='MCS Scaffold')\n",
        "        display(img)\n",
        "    else:\n",
        "        print(\"MCS not found or is trivial (e.g., just a single atom). This suggests **high structural diversity** among the generated set. ✅\")\n",
        "\n",
        "# --- Execution: Use the global variable from the previous cell ---\n",
        "\n",
        "# Check if the variable exists and use it\n",
        "if 'valid_smiles' in globals() and isinstance(valid_smiles, list):\n",
        "    perform_mcs_analysis(valid_smiles)\n",
        "else:\n",
        "    print(\"Execution Error: The list 'valid_smiles' was not found or is not a list. Ensure your prediction script ran successfully.\")"
      ],
      "metadata": {
        "colab": {
          "base_uri": "https://localhost:8080/",
          "height": 373
        },
        "id": "ELdc7qxPS7uv",
        "outputId": "623c681c-910c-49e0-9578-f1e21d875ea4"
      },
      "id": "ELdc7qxPS7uv",
      "execution_count": null,
      "outputs": [
        {
          "output_type": "stream",
          "name": "stdout",
          "text": [
            "Starting MCS analysis on 13 valid molecules...\n",
            "\n",
            "==============================================\n",
            "      Maximal Common Substructure (MCS)\n",
            "==============================================\n",
            "Input Molecules: 13\n",
            "MCS SMARTS String: [#6]:,-[#6]-,:[#7]-,:[#6]:,-[#6]:,-[#6]:,-[#6]:,-[#6]:[#6]-,:[#6]\n",
            "\n",
            "Displaying the common molecular scaffold:\n"
          ]
        },
        {
          "output_type": "display_data",
          "data": {
            "text/plain": [
              "<PIL.PngImagePlugin.PngImageFile image mode=RGB size=400x200>"
            ],
            "image/png": "[encoded data removed]",
            "image/jpeg": "[encoded data removed]"
          },
          "metadata": {}
        }
      ]
    },
    {
      "cell_type": "code",
      "source": [],
      "metadata": {
        "id": "pudo2IH0Tt6n"
      },
      "id": "pudo2IH0Tt6n",
      "execution_count": null,
      "outputs": []
    }
  ],
  "metadata": {
    "kernelspec": {
      "display_name": "Python 3",
      "name": "python3"
    },
    "language_info": {
      "codemirror_mode": {
        "name": "ipython",
        "version": 3
      },
      "file_extension": ".py",
      "mimetype": "text/x-python",
      "name": "python",
      "nbconvert_exporter": "python",
      "pygments_lexer": "ipython3",
      "version": "3.12.3"
    },
    "colab": {
      "provenance": [],
      "gpuType": "T4",
      "include_colab_link": true
    },
    "accelerator": "GPU"
  },
  "nbformat": 4,
  "nbformat_minor": 5
}